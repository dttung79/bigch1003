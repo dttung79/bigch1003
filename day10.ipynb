{
 "cells": [
  {
   "cell_type": "code",
   "execution_count": null,
   "metadata": {},
   "outputs": [],
   "source": [
    "# Read file using open: open(filename, mode)\n",
    "# filename: absolute or relative path to the file\n",
    "# mode: r (read), w (write), a (append), r+ (read and write)"
   ]
  },
  {
   "cell_type": "code",
   "execution_count": 4,
   "metadata": {},
   "outputs": [],
   "source": [
    "f = open('Dataset/agencies.txt', 'r') # relative path\n",
    "# f = open('/Volumes/GoogleDrive/.../Dataset/agencies.txt', 'r') # absolute path"
   ]
  },
  {
   "cell_type": "code",
   "execution_count": null,
   "metadata": {},
   "outputs": [],
   "source": [
    "f = open('Dataset/agencies.txt', 'r') # relative path\n",
    "# Read all content of the file\n",
    "content = f.read()\n",
    "print(content)\n",
    "print(type(content))"
   ]
  },
  {
   "cell_type": "code",
   "execution_count": 1,
   "metadata": {},
   "outputs": [
    {
     "name": "stdout",
     "output_type": "stream",
     "text": [
      "2 The Triboro Bridge and Tunnel Authority\n",
      "4 The Metropolitan Transit Authority\n",
      "5 The Port Authority of New York and New Jersey\n"
     ]
    }
   ],
   "source": [
    "f = open('Dataset/agencies.txt', 'r') # relative path\n",
    "fw = open('Dataset/authorities.txt', 'w') # open to write\n",
    "# Read all lines of the file (cost memory)\n",
    "lines = f.readlines()\n",
    "\n",
    "for i in range(len(lines)):\n",
    "    if 'authority' in lines[i].lower():\n",
    "        print(i, lines[i][:-1]) # remove the last character (\\n)\n",
    "        fw.write(lines[i]) # write to the file\n",
    "\n",
    "fw.close()"
   ]
  },
  {
   "cell_type": "code",
   "execution_count": null,
   "metadata": {},
   "outputs": [],
   "source": [
    "f = open('Dataset/agencies.txt', 'r') # relative path\n",
    "# Read one line at a time (slower but more memory efficient)\n",
    "line = f.readline()\n",
    "while line:\n",
    "    print(line[:-1])\n",
    "    line = f.readline()"
   ]
  },
  {
   "cell_type": "code",
   "execution_count": 13,
   "metadata": {},
   "outputs": [
    {
     "name": "stdout",
     "output_type": "stream",
     "text": [
      "[[0.0, 0.0, 180.0, 3.5], [1.0, 0.5, 185.0, 4.5], [2.0, 0.7, 192.0, 5.2]]\n"
     ]
    }
   ],
   "source": [
    "f = open('Dataset/falling.txt', 'r')\n",
    "# Skip the first 5 lines\n",
    "for i in range(5):\n",
    "    f.readline()\n",
    "\n",
    "line = f.readline()\n",
    "falling_data = []\n",
    "\n",
    "while line:\n",
    "    data_point, time, height, uncertainty = line.split()\n",
    "    falling_data.append([float(data_point), float(time), float(height), float(uncertainty)])\n",
    "    line = f.readline()\n",
    "\n",
    "print(falling_data)"
   ]
  },
  {
   "cell_type": "code",
   "execution_count": 15,
   "metadata": {},
   "outputs": [
    {
     "name": "stdout",
     "output_type": "stream",
     "text": [
      "[[  0.    0.  180.    3.5]\n",
      " [  1.    0.5 185.    4.5]\n",
      " [  2.    0.7 192.    5.2]]\n"
     ]
    }
   ],
   "source": [
    "import numpy as np\n",
    "falling_data = np.loadtxt('Dataset/falling.txt', skiprows=5)\n",
    "print(falling_data)"
   ]
  },
  {
   "cell_type": "code",
   "execution_count": 16,
   "metadata": {},
   "outputs": [
    {
     "name": "stdout",
     "output_type": "stream",
     "text": [
      "0.0 180.0\n",
      "0.5 185.0\n",
      "0.7 192.0\n"
     ]
    }
   ],
   "source": [
    "data_points, times, heights, uncertainties = np.loadtxt('Dataset/falling.txt', skiprows=5, unpack=True)\n",
    "for i in range(len(times)):\n",
    "    print(times[i], heights[i])"
   ]
  },
  {
   "cell_type": "code",
   "execution_count": 17,
   "metadata": {},
   "outputs": [
    {
     "name": "stdout",
     "output_type": "stream",
     "text": [
      "[0.  0.5 0.7]\n",
      "[3.5 4.5 5.2]\n"
     ]
    }
   ],
   "source": [
    "times, uncertainties = np.loadtxt('Dataset/falling.txt', skiprows=5, usecols=(1, 3), unpack=True)\n",
    "print(times)\n",
    "print(uncertainties)"
   ]
  },
  {
   "cell_type": "code",
   "execution_count": null,
   "metadata": {},
   "outputs": [],
   "source": [
    "import numpy as np\n",
    "codes, names, grades = np.loadtxt('Dataset/gradebook.csv', skiprows=1, usecols=(2, 3, 4), \n",
    "                    unpack=True, delimiter=',', dtype=str)\n",
    "# empty grade => 0.0\n",
    "grades[grades == ''] = '0.0'\n",
    "# empty code => GCHXXXX\n",
    "codes[codes == ''] = 'GCHXXXXX'\n",
    "# grade > 10 => 10.0\n",
    "grades = np.array(list(map(lambda x: float(x), grades)))\n",
    "grades[grades > 10.0] = 10.0\n",
    "#print(grades)\n",
    "for i in range(len(codes)):\n",
    "    print(f'{codes[i]:10}{names[i]:20}{grades[i]:5.2f}')\n",
    "\n",
    "grades_data = list(zip(codes, names, grades)) # zip 3 columns into 2d list\n",
    "header_str = 'Code,Name,Grade'  # header string for csv file\n",
    "\n",
    "np.savetxt('Dataset/gradebook_clean.csv', grades_data, fmt='%s', delimiter=',', \n",
    "           header=header_str, comments='')"
   ]
  },
  {
   "cell_type": "code",
   "execution_count": 13,
   "metadata": {},
   "outputs": [
    {
     "name": "stdout",
     "output_type": "stream",
     "text": [
      "GBH17538Le Minh Huong       6.5  \n",
      "GCH16025Bui Phuong Nam      0    \n",
      "GCH16336Nguyen The Dat      6.5  \n",
      "GCH16388Pham Minh Thang     9.5  \n",
      "GCH16573Do Duy Tung         6.5  \n",
      "GCH16602Nguyen Hoang Minh   0.0  \n",
      "GCH16603Nguyen Thanh Thang  8.0  \n",
      "GCH16604Tran Duc Le         3.8  \n",
      "GCHXXXXXNguyen Minh Tuan    10.0 \n"
     ]
    }
   ],
   "source": [
    "import csv\n",
    "f = open('Dataset/gradebook.csv', 'r', encoding='utf-8', newline='')\n",
    "fw = open('Dataset/gradebook_short.csv', 'w', encoding='utf-8', newline='')\n",
    "\n",
    "grades_data = []\n",
    "\n",
    "reader = csv.reader(f)\n",
    "writer = csv.writer(fw)\n",
    "writer.writerow(['Code', 'Name', 'Grade'])\n",
    "\n",
    "for row in reader:\n",
    "    grades_data.append(row)\n",
    "\n",
    "for row in grades_data[1:]:\n",
    "    if row[4] == '':\n",
    "        row[4] = '0.0'\n",
    "    if row[2] == '':\n",
    "        row[2] = 'GCHXXXXX'\n",
    "    if float(row[4]) > 10.0:\n",
    "        row[4] = '10.0'\n",
    "\n",
    "    print(f'{row[2]:5}{row[3]:20}{row[4]:5}')\n",
    "    writer.writerow([row[2], row[3], row[4]])\n",
    "\n",
    "fw.close()"
   ]
  },
  {
   "cell_type": "code",
   "execution_count": null,
   "metadata": {},
   "outputs": [],
   "source": [
    "# Read authors.txt, filter authors that uses gmail and print their names & email\n",
    "# Example output (25 spaces for name, 25 spaces for email):\n",
    "# Name            Email\n",
    "# Paul Bakaus     paul.bakaus@gmail.com\n",
    "# Richard Worth   rdworth@gmail.com\n",
    "# Yehuda Katz     wycats@gmail.com\n",
    "f = open('Dataset/authors.txt', 'r')\n",
    "lines = f.readlines()\n",
    "print(f'{\"Name\":25}{\"Email\":25}')\n",
    "for line in lines[3:]:\n",
    "    name, email = line.split('<')\n",
    "    if 'gmail' in email.lower():\n",
    "        print(f'{name.strip():25}{email[:-2]:25}')"
   ]
  },
  {
   "cell_type": "code",
   "execution_count": null,
   "metadata": {},
   "outputs": [],
   "source": [
    "reader = csv.reader(open('Dataset/pizza_data.csv', 'r', encoding='utf-8'))\n",
    "header = next(reader)\n",
    "del header[0]   # remove the first column (id) of header\n",
    "del header[7]   # remove the url column of header\n",
    "\n",
    "with open('Dataset/pizza_data_clean.csv', 'w', encoding='utf-8', newline='') as fw:\n",
    "    writer = csv.writer(fw)\n",
    "    writer.writerow(header)\n",
    "    for row in reader:\n",
    "        if len(row[9]) * len(row[10]) * len(row[18]) * len(row[19]) == 0:\n",
    "            continue\n",
    "        row[2] = row[2].split(',')[0]\n",
    "        del row[0]\n",
    "        del row[7]\n",
    "        writer.writerow(row)\n",
    "        \n",
    "    "
   ]
  }
 ],
 "metadata": {
  "kernelspec": {
   "display_name": "Python 3",
   "language": "python",
   "name": "python3"
  },
  "language_info": {
   "codemirror_mode": {
    "name": "ipython",
    "version": 3
   },
   "file_extension": ".py",
   "mimetype": "text/x-python",
   "name": "python",
   "nbconvert_exporter": "python",
   "pygments_lexer": "ipython3",
   "version": "3.9.12"
  },
  "orig_nbformat": 4
 },
 "nbformat": 4,
 "nbformat_minor": 2
}
