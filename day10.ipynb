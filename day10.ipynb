{
 "cells": [
  {
   "cell_type": "code",
   "execution_count": null,
   "metadata": {},
   "outputs": [],
   "source": [
    "# Read file using open: open(filename, mode)\n",
    "# filename: absolute or relative path to the file\n",
    "# mode: r (read), w (write), a (append), r+ (read and write)"
   ]
  },
  {
   "cell_type": "code",
   "execution_count": 4,
   "metadata": {},
   "outputs": [],
   "source": [
    "f = open('Dataset/agencies.txt', 'r') # relative path\n",
    "# f = open('/Volumes/GoogleDrive/.../Dataset/agencies.txt', 'r') # absolute path"
   ]
  },
  {
   "cell_type": "code",
   "execution_count": null,
   "metadata": {},
   "outputs": [],
   "source": [
    "f = open('Dataset/agencies.txt', 'r') # relative path\n",
    "# Read all content of the file\n",
    "content = f.read()\n",
    "print(content)\n",
    "print(type(content))"
   ]
  },
  {
   "cell_type": "code",
   "execution_count": 11,
   "metadata": {},
   "outputs": [
    {
     "name": "stdout",
     "output_type": "stream",
     "text": [
      "2 The Triboro Bridge and Tunnel Authority\n",
      "4 The Metropolitan Transit Authority\n",
      "5 The Port Authority of New York and New Jersey\n"
     ]
    }
   ],
   "source": [
    "f = open('Dataset/agencies.txt', 'r') # relative path\n",
    "# Read all lines of the file (cost memory)\n",
    "lines = f.readlines()\n",
    "for i in range(len(lines)):\n",
    "    if 'authority' in lines[i].lower():\n",
    "        print(i, lines[i][:-1]) # remove the last character (\\n)"
   ]
  },
  {
   "cell_type": "code",
   "execution_count": null,
   "metadata": {},
   "outputs": [],
   "source": [
    "f = open('Dataset/agencies.txt', 'r') # relative path\n",
    "# Read one line at a time (slower but more memory efficient)\n",
    "line = f.readline()\n",
    "while line:\n",
    "    print(line[:-1])\n",
    "    line = f.readline()"
   ]
  }
 ],
 "metadata": {
  "kernelspec": {
   "display_name": "Python 3",
   "language": "python",
   "name": "python3"
  },
  "language_info": {
   "codemirror_mode": {
    "name": "ipython",
    "version": 3
   },
   "file_extension": ".py",
   "mimetype": "text/x-python",
   "name": "python",
   "nbconvert_exporter": "python",
   "pygments_lexer": "ipython3",
   "version": "3.9.12"
  },
  "orig_nbformat": 4
 },
 "nbformat": 4,
 "nbformat_minor": 2
}
