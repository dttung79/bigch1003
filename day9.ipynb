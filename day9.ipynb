{
 "cells": [
  {
   "cell_type": "code",
   "execution_count": 1,
   "metadata": {},
   "outputs": [],
   "source": [
    "def my_sum(items):\n",
    "    s = 0\n",
    "    for i in items:\n",
    "        s += i\n",
    "    return s"
   ]
  },
  {
   "cell_type": "code",
   "execution_count": 2,
   "metadata": {},
   "outputs": [
    {
     "name": "stdout",
     "output_type": "stream",
     "text": [
      "6\n",
      "6\n",
      "6\n"
     ]
    }
   ],
   "source": [
    "import numpy as np\n",
    "a = [1, 2, 3]\n",
    "print(my_sum(a))            # pass a list\n",
    "print(my_sum(np.array(a)))  # pass a numpy array\n",
    "b = (1, 2, 3)\n",
    "print(my_sum(b))            # pass a tuple"
   ]
  },
  {
   "cell_type": "code",
   "execution_count": 5,
   "metadata": {},
   "outputs": [
    {
     "name": "stdout",
     "output_type": "stream",
     "text": [
      "[11 79 43 52 51 35 22 58 31 43]\n",
      "52 22 58 "
     ]
    }
   ],
   "source": [
    "# Generator\n",
    "def my_filter(f, items):\n",
    "    for i in items:\n",
    "        if f(i):\n",
    "            yield i\n",
    "\n",
    "numbers = np.random.randint(0, 100, 10)\n",
    "print(numbers)\n",
    "\n",
    "for n in my_filter(lambda x: x % 2 == 0, numbers):\n",
    "    print(n, end=' ')"
   ]
  },
  {
   "cell_type": "code",
   "execution_count": null,
   "metadata": {},
   "outputs": [],
   "source": [
    "evens_generator = (n for n in numbers if n % 2 == 0)\n",
    "evens_list = [n for n in numbers if n % 2 == 0]\n",
    "\n",
    "print(evens_generator)\n",
    "\n",
    "s = sum(evens_generator)    # Sum will loop through the generator\n",
    "print(s)\n",
    "s = sum(evens_list)         # Sum will loop through the list\n",
    "print(s)\n",
    "print('generator')\n",
    "for n in evens_generator:   # The generator is empty\n",
    "    print(n, end=' ')\n",
    "print()\n",
    "for n in evens_list:        # The list is not empty\n",
    "    print(n, end=' ')\n",
    "print()"
   ]
  },
  {
   "cell_type": "code",
   "execution_count": 13,
   "metadata": {},
   "outputs": [
    {
     "name": "stdout",
     "output_type": "stream",
     "text": [
      "0 1 1 2 3 5 8 13 21 34 "
     ]
    }
   ],
   "source": [
    "def fib_rec(n):\n",
    "    if n == 0 or n == 1:\n",
    "        return n\n",
    "    return fib_rec(n-1) + fib_rec(n-2)\n",
    "\n",
    "for i in range(10):\n",
    "    print(fib_rec(i), end=' ')"
   ]
  },
  {
   "cell_type": "code",
   "execution_count": null,
   "metadata": {},
   "outputs": [],
   "source": [
    "print(fib_rec(30))"
   ]
  },
  {
   "cell_type": "code",
   "execution_count": null,
   "metadata": {},
   "outputs": [],
   "source": [
    "print(fib_rec(35))"
   ]
  },
  {
   "cell_type": "code",
   "execution_count": 16,
   "metadata": {},
   "outputs": [
    {
     "name": "stdout",
     "output_type": "stream",
     "text": [
      "102334155\n"
     ]
    }
   ],
   "source": [
    "print(fib_rec(40))"
   ]
  },
  {
   "cell_type": "code",
   "execution_count": 18,
   "metadata": {},
   "outputs": [],
   "source": [
    "def fib_gen():\n",
    "    fn_1, fn = 0, 1\n",
    "    while True:\n",
    "        yield fn_1\n",
    "        fn_1, fn = fn, fn_1 + fn"
   ]
  },
  {
   "cell_type": "code",
   "execution_count": 23,
   "metadata": {},
   "outputs": [
    {
     "name": "stdout",
     "output_type": "stream",
     "text": [
      "0 1 1 2 3 5 8 13 21 34 55 89 144 233 377 610 987 1597 2584 4181 6765 10946 17711 28657 46368 75025 121393 196418 317811 514229 832040 1346269 2178309 3524578 5702887 9227465 14930352 24157817 39088169 63245986 102334155 165580141 267914296 433494437 701408733 1134903170 1836311903 2971215073 4807526976 7778742049 12586269025 20365011074 32951280099 53316291173 86267571272 139583862445 225851433717 365435296162 591286729879 956722026041 1548008755920 2504730781961 4052739537881 6557470319842 10610209857723 17167680177565 27777890035288 44945570212853 72723460248141 117669030460994 190392490709135 308061521170129 498454011879264 806515533049393 1304969544928657 2111485077978050 3416454622906707 5527939700884757 8944394323791464 14472334024676221 23416728348467685 37889062373143906 61305790721611591 99194853094755497 160500643816367088 259695496911122585 420196140727489673 679891637638612258 1100087778366101931 1779979416004714189 2880067194370816120 4660046610375530309 7540113804746346429 12200160415121876738 19740274219868223167 31940434634990099905 51680708854858323072 83621143489848422977 135301852344706746049 218922995834555169026 "
     ]
    }
   ],
   "source": [
    "i = 0\n",
    "for f in fib_gen():\n",
    "    print(f, end=' ')\n",
    "    i += 1\n",
    "    if i == 100:\n",
    "        break"
   ]
  },
  {
   "cell_type": "code",
   "execution_count": 24,
   "metadata": {},
   "outputs": [
    {
     "name": "stdout",
     "output_type": "stream",
     "text": [
      "354224848179261915075\n"
     ]
    }
   ],
   "source": [
    "def fib(n):\n",
    "    i = 0\n",
    "    for f in fib_gen():\n",
    "        if i == n:\n",
    "            return f\n",
    "        i += 1\n",
    "print(fib(100))"
   ]
  },
  {
   "cell_type": "code",
   "execution_count": 25,
   "metadata": {},
   "outputs": [
    {
     "name": "stdout",
     "output_type": "stream",
     "text": [
      "Revernue after VAT:  4653.0\n"
     ]
    }
   ],
   "source": [
    "product_solds = [['pen', 10, 110],\n",
    "                 ['pencil', 5, 180],\n",
    "                 ['notebook', 20, 58],\n",
    "                 ['eraser', 2, 150],\n",
    "                 ['ruler', 8, 120],\n",
    "                 ['book', 25, 30]]\n",
    "\n",
    "revenues = (p[1] * p[2] for p in product_solds)\n",
    "revenues_vat = (r * 0.9 for r in revenues)\n",
    "\n",
    "print('Revernue after VAT: ', sum(revenues_vat))"
   ]
  }
 ],
 "metadata": {
  "kernelspec": {
   "display_name": "Python 3",
   "language": "python",
   "name": "python3"
  },
  "language_info": {
   "codemirror_mode": {
    "name": "ipython",
    "version": 3
   },
   "file_extension": ".py",
   "mimetype": "text/x-python",
   "name": "python",
   "nbconvert_exporter": "python",
   "pygments_lexer": "ipython3",
   "version": "3.9.12"
  },
  "orig_nbformat": 4
 },
 "nbformat": 4,
 "nbformat_minor": 2
}
