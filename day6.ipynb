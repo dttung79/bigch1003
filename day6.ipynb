{
 "cells": [
  {
   "cell_type": "code",
   "execution_count": 1,
   "metadata": {},
   "outputs": [],
   "source": [
    "def hello():\n",
    "    print(\"Hello World\")"
   ]
  },
  {
   "cell_type": "code",
   "execution_count": 2,
   "metadata": {},
   "outputs": [
    {
     "name": "stdout",
     "output_type": "stream",
     "text": [
      "Hello World\n"
     ]
    }
   ],
   "source": [
    "hello()"
   ]
  },
  {
   "cell_type": "code",
   "execution_count": 3,
   "metadata": {},
   "outputs": [
    {
     "name": "stdout",
     "output_type": "stream",
     "text": [
      "Hello World\n",
      "None\n"
     ]
    }
   ],
   "source": [
    "a = hello()\n",
    "print(a)"
   ]
  },
  {
   "cell_type": "code",
   "execution_count": 4,
   "metadata": {},
   "outputs": [],
   "source": [
    "def add(a, b):\n",
    "    return a + b"
   ]
  },
  {
   "cell_type": "code",
   "execution_count": null,
   "metadata": {},
   "outputs": [],
   "source": [
    "a = add(1, 2)\n",
    "print(a)\n",
    "print(add(1, 2))"
   ]
  },
  {
   "cell_type": "code",
   "execution_count": null,
   "metadata": {},
   "outputs": [],
   "source": [
    "# Scope of variables\n",
    "def my_func(a):\n",
    "    a = a + 2   # a is a local variable\n",
    "    print(a)\n",
    "\n",
    "a = 1           # a is a global variable\n",
    "my_func(a)\n",
    "print(a)\n",
    "my_func(5)\n",
    "print(a)"
   ]
  },
  {
   "cell_type": "code",
   "execution_count": 12,
   "metadata": {},
   "outputs": [
    {
     "name": "stdout",
     "output_type": "stream",
     "text": [
      "5 9\n"
     ]
    }
   ],
   "source": [
    "a = 5\n",
    "def my_func():\n",
    "    b = a + 4   # b is a local variable, a is a global variable\n",
    "    print(a, b)\n",
    "\n",
    "my_func()"
   ]
  },
  {
   "cell_type": "code",
   "execution_count": 13,
   "metadata": {},
   "outputs": [
    {
     "ename": "UnboundLocalError",
     "evalue": "local variable 'a' referenced before assignment",
     "output_type": "error",
     "traceback": [
      "\u001b[0;31m---------------------------------------------------------------------------\u001b[0m",
      "\u001b[0;31mUnboundLocalError\u001b[0m                         Traceback (most recent call last)",
      "\u001b[1;32m/Volumes/GoogleDrive/My Drive/FPTU/Program - F2G new/Unit 14 - Business Intelligence/GCH1003/bigch1003/day6.ipynb Cell 8\u001b[0m in \u001b[0;36m<cell line: 6>\u001b[0;34m()\u001b[0m\n\u001b[1;32m      <a href='vscode-notebook-cell:/Volumes/GoogleDrive/My%20Drive/FPTU/Program%20-%20F2G%20new/Unit%2014%20-%20Business%20Intelligence/GCH1003/bigch1003/day6.ipynb#X10sZmlsZQ%3D%3D?line=2'>3</a>\u001b[0m     a \u001b[39m=\u001b[39m a \u001b[39m+\u001b[39m \u001b[39m2\u001b[39m       \u001b[39m# a is a local variable but it is not assigned\u001b[39;00m\n\u001b[1;32m      <a href='vscode-notebook-cell:/Volumes/GoogleDrive/My%20Drive/FPTU/Program%20-%20F2G%20new/Unit%2014%20-%20Business%20Intelligence/GCH1003/bigch1003/day6.ipynb#X10sZmlsZQ%3D%3D?line=3'>4</a>\u001b[0m     \u001b[39mprint\u001b[39m(a)\n\u001b[0;32m----> <a href='vscode-notebook-cell:/Volumes/GoogleDrive/My%20Drive/FPTU/Program%20-%20F2G%20new/Unit%2014%20-%20Business%20Intelligence/GCH1003/bigch1003/day6.ipynb#X10sZmlsZQ%3D%3D?line=5'>6</a>\u001b[0m my_func()\n",
      "\u001b[1;32m/Volumes/GoogleDrive/My Drive/FPTU/Program - F2G new/Unit 14 - Business Intelligence/GCH1003/bigch1003/day6.ipynb Cell 8\u001b[0m in \u001b[0;36mmy_func\u001b[0;34m()\u001b[0m\n\u001b[1;32m      <a href='vscode-notebook-cell:/Volumes/GoogleDrive/My%20Drive/FPTU/Program%20-%20F2G%20new/Unit%2014%20-%20Business%20Intelligence/GCH1003/bigch1003/day6.ipynb#X10sZmlsZQ%3D%3D?line=1'>2</a>\u001b[0m \u001b[39mdef\u001b[39;00m \u001b[39mmy_func\u001b[39m():\n\u001b[0;32m----> <a href='vscode-notebook-cell:/Volumes/GoogleDrive/My%20Drive/FPTU/Program%20-%20F2G%20new/Unit%2014%20-%20Business%20Intelligence/GCH1003/bigch1003/day6.ipynb#X10sZmlsZQ%3D%3D?line=2'>3</a>\u001b[0m     a \u001b[39m=\u001b[39m a \u001b[39m+\u001b[39m \u001b[39m2\u001b[39m       \u001b[39m# a is a local variable but it is not assigned\u001b[39;00m\n\u001b[1;32m      <a href='vscode-notebook-cell:/Volumes/GoogleDrive/My%20Drive/FPTU/Program%20-%20F2G%20new/Unit%2014%20-%20Business%20Intelligence/GCH1003/bigch1003/day6.ipynb#X10sZmlsZQ%3D%3D?line=3'>4</a>\u001b[0m     \u001b[39mprint\u001b[39m(a)\n",
      "\u001b[0;31mUnboundLocalError\u001b[0m: local variable 'a' referenced before assignment"
     ]
    }
   ],
   "source": [
    "a = 10              # a is a global variable\n",
    "def my_func():\n",
    "    a = a + 2       # a is a local variable but it is not assigned\n",
    "    print(a)\n",
    "\n",
    "my_func()"
   ]
  },
  {
   "cell_type": "code",
   "execution_count": null,
   "metadata": {},
   "outputs": [],
   "source": [
    "# Pass value / reference to parameters\n",
    "def swap(a, b):  # pass by values\n",
    "    a, b = b, a\n",
    "    print(a, b)\n",
    "\n",
    "a = 1\n",
    "b = 2\n",
    "swap(a, b)\n",
    "print(a, b)"
   ]
  },
  {
   "cell_type": "code",
   "execution_count": null,
   "metadata": {},
   "outputs": [],
   "source": [
    "def swap(a): # pass by reference (list, tuple, array, dictionary)\n",
    "    a[0], a[1] = a[1], a[0]\n",
    "    print(a)\n",
    "\n",
    "a = [1, 2]\n",
    "swap(a)\n",
    "print(a)\n",
    "\n",
    "b = (1, 2)\n",
    "swap(b)"
   ]
  },
  {
   "cell_type": "code",
   "execution_count": 19,
   "metadata": {},
   "outputs": [
    {
     "name": "stdout",
     "output_type": "stream",
     "text": [
      "[2, 1]\n",
      "[1, 2]\n"
     ]
    }
   ],
   "source": [
    "def swap(a):\n",
    "    a = [a[1], a[0]] # create new a from old a\n",
    "    print(a)\n",
    "a = [1, 2]\n",
    "swap(a)\n",
    "print(a)"
   ]
  },
  {
   "cell_type": "code",
   "execution_count": 22,
   "metadata": {},
   "outputs": [
    {
     "name": "stdout",
     "output_type": "stream",
     "text": [
      "4 5  -   = ???\n"
     ]
    }
   ],
   "source": [
    "# keyword arguments\n",
    "print(4, 5, sep=' - ', end=' = ???')"
   ]
  },
  {
   "cell_type": "code",
   "execution_count": 27,
   "metadata": {},
   "outputs": [
    {
     "name": "stdout",
     "output_type": "stream",
     "text": [
      "1 10\n",
      "1 2\n",
      "1 2\n",
      "1 2\n",
      "1 2\n"
     ]
    }
   ],
   "source": [
    "def my_func(a, b=10):\n",
    "    print(a, b)\n",
    "\n",
    "my_func(1)      # a = 1, b = 10\n",
    "my_func(1, 2)   # a = 1, b = 2 (without named parameter)\n",
    "my_func(1, b=2) # a = 1, b = 2 (with named parameter)\n",
    "my_func(a=1, b=2) # a = 1, b = 2 (with named parameter)\n",
    "my_func(b=2, a=1) # a = 1, b = 2 (with named parameter)\n",
    "# my_func(b=2)     # error (a is not assigned)\n",
    "# my_func(b=2, 1)  # error (a is not in correct position)"
   ]
  },
  {
   "cell_type": "code",
   "execution_count": 28,
   "metadata": {},
   "outputs": [
    {
     "name": "stdout",
     "output_type": "stream",
     "text": [
      "a = 4, x = 5.4, msg = Hi, flag = False\n"
     ]
    }
   ],
   "source": [
    "def my_func(a, x, msg='Hello', flag=True):\n",
    "    print(f'a = {a}, x = {x}, msg = {msg}, flag = {flag}')\n",
    "\n",
    "my_func(4, 5.4, 'Hi', False)"
   ]
  },
  {
   "cell_type": "code",
   "execution_count": 29,
   "metadata": {},
   "outputs": [
    {
     "name": "stdout",
     "output_type": "stream",
     "text": [
      "a = 4, x = 5.4, msg = Hello, flag = True\n"
     ]
    }
   ],
   "source": [
    "my_func(4, 5.4)"
   ]
  },
  {
   "cell_type": "code",
   "execution_count": 30,
   "metadata": {},
   "outputs": [
    {
     "name": "stdout",
     "output_type": "stream",
     "text": [
      "a = 4, x = 5.4, msg = False, flag = Hi\n"
     ]
    }
   ],
   "source": [
    "my_func(4, 5.4, False, 'Hi')"
   ]
  },
  {
   "cell_type": "code",
   "execution_count": 31,
   "metadata": {},
   "outputs": [
    {
     "name": "stdout",
     "output_type": "stream",
     "text": [
      "a = 5.4, x = 4, msg = Hi, flag = False\n"
     ]
    }
   ],
   "source": [
    "my_func(5.4, 4, flag=False, msg='Hi')"
   ]
  },
  {
   "cell_type": "code",
   "execution_count": 32,
   "metadata": {},
   "outputs": [
    {
     "name": "stdout",
     "output_type": "stream",
     "text": [
      "a = False, x = Hi, msg = 4, flag = 4.5\n"
     ]
    }
   ],
   "source": [
    "my_func(False, 'Hi', 4, 4.5)"
   ]
  }
 ],
 "metadata": {
  "kernelspec": {
   "display_name": "Python 3",
   "language": "python",
   "name": "python3"
  },
  "language_info": {
   "codemirror_mode": {
    "name": "ipython",
    "version": 3
   },
   "file_extension": ".py",
   "mimetype": "text/x-python",
   "name": "python",
   "nbconvert_exporter": "python",
   "pygments_lexer": "ipython3",
   "version": "3.9.12"
  },
  "orig_nbformat": 4
 },
 "nbformat": 4,
 "nbformat_minor": 2
}
