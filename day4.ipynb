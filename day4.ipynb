{
 "cells": [
  {
   "cell_type": "code",
   "execution_count": null,
   "metadata": {},
   "outputs": [],
   "source": [
    "import numpy as np\n",
    "\n",
    "numbers = np.random.randint(1, 100, 10)\n",
    "print(numbers)\n",
    "\n",
    "evens = numbers[numbers % 2 == 0]\n",
    "print(evens)\n",
    "\n",
    "print(numbers % 2 == 0)\n",
    "\n",
    "odds = numbers[numbers % 2 == 1]\n",
    "print(odds)"
   ]
  },
  {
   "cell_type": "code",
   "execution_count": null,
   "metadata": {},
   "outputs": [],
   "source": [
    "numbers = np.random.randint(-100, 100, 15)\n",
    "print(numbers)\n",
    "# get positive numbers\n",
    "positives = numbers[numbers > 0]\n",
    "print(positives)\n",
    "# get negative numbers\n",
    "negatives = numbers[numbers < 0]\n",
    "print(negatives)"
   ]
  },
  {
   "cell_type": "code",
   "execution_count": null,
   "metadata": {},
   "outputs": [],
   "source": [
    "# numbers[numbers < 0] = 0\n",
    "numbers[numbers < 0] *= -1\n",
    "print(numbers)"
   ]
  },
  {
   "cell_type": "code",
   "execution_count": 11,
   "metadata": {},
   "outputs": [
    {
     "name": "stdout",
     "output_type": "stream",
     "text": [
      "[-0.11  0.35 -0.79  0.37  0.11 -0.79 -0.71 -0.9  -0.76  0.91  0.14  0.73\n",
      "  0.49  0.91  0.17  0.89  0.63  0.08  0.67  0.88]\n",
      "[-1.  1. -1.  1.  1. -1. -1. -1. -1.  1.  1.  1.  1.  1.  1.  1.  1.  1.\n",
      "  1.  1.]\n"
     ]
    }
   ],
   "source": [
    "# Generate 20 floating random numbers between -1 and 1\n",
    "numbers = np.random.randint(-100, 100, 20) / 100\n",
    "print(numbers)\n",
    "# Convert negative numbers to -1, positive and zero numbers to 1\n",
    "numbers[numbers < 0] = -1\n",
    "numbers[numbers >= 0] = 1\n",
    "print(numbers)"
   ]
  },
  {
   "cell_type": "code",
   "execution_count": 26,
   "metadata": {},
   "outputs": [
    {
     "name": "stdout",
     "output_type": "stream",
     "text": [
      "2.65 7.25 11.80 13.79 20.85 17.38 [ 0.          2.65306122  7.25490196 11.8        13.79310345 20.85106383\n",
      " 17.38461538]\n"
     ]
    }
   ],
   "source": [
    "y = np.array([0., 1.3, 5. , 10.9, 18.9, 28.7, 40.]) \n",
    "t = np.array([0., 0.49, 1. , 1.5 , 2.08, 2.55, 3.2]) \n",
    "v = np.array([0, 0., 0, 0, 0, 0, 0])\n",
    "for i in range(1, len(y)):\n",
    "    v[i] = (y[i] - y[i - 1]) / (t[i] - t[i - 1])\n",
    "    print(f'{v[i]:.2f}', end=' ')\n",
    "\n",
    "v[1:] = (y[1:] - y[:-1]) / (t[1:] - t[:-1])\n",
    "print(v)"
   ]
  },
  {
   "cell_type": "code",
   "execution_count": 20,
   "metadata": {},
   "outputs": [
    {
     "name": "stdout",
     "output_type": "stream",
     "text": [
      "['Paul Lambert' 'John Doe' 'Mike Tyson' 'Anthony Compa' 'John Doe' 'Anna']\n"
     ]
    }
   ],
   "source": [
    "names = ['Paul Lambert', '', 'Mike Tyson', 'Anthony Compa', '', 'Anna']\n",
    "names = np.array(names)\n",
    "names[names == ''] = 'John Doe'\n",
    "print(names)"
   ]
  },
  {
   "cell_type": "code",
   "execution_count": 23,
   "metadata": {},
   "outputs": [
    {
     "name": "stdout",
     "output_type": "stream",
     "text": [
      "[ 12   0  88 100 150  43]\n"
     ]
    }
   ],
   "source": [
    "ages = np.array([12, -29, 88, 100, 170, 43])\n",
    "ages[ages < 0] = 0\n",
    "ages[ages > 150] = 150\n",
    "print(ages)"
   ]
  },
  {
   "cell_type": "code",
   "execution_count": 27,
   "metadata": {},
   "outputs": [
    {
     "name": "stdout",
     "output_type": "stream",
     "text": [
      "['29' '29' '29.0']\n"
     ]
    }
   ],
   "source": [
    "a = [29, '29', 29.0]\n",
    "b = np.array(a)\n",
    "print(b)"
   ]
  },
  {
   "cell_type": "code",
   "execution_count": 29,
   "metadata": {},
   "outputs": [
    {
     "name": "stdout",
     "output_type": "stream",
     "text": [
      "Longest name: Anthony Compa\n",
      "Shortest name: Anna\n"
     ]
    }
   ],
   "source": [
    "print(f'Longest name: {max(names, key=len)}')\n",
    "print(f'Shortest name: {min(names, key=len)}')"
   ]
  },
  {
   "cell_type": "code",
   "execution_count": 33,
   "metadata": {},
   "outputs": [
    {
     "name": "stdout",
     "output_type": "stream",
     "text": [
      "[[1 2 3]\n",
      " [4 5 6]]\n",
      "2 6 (2, 3)\n",
      "[[1 2]\n",
      " [3 4]\n",
      " [5 6]] \n",
      "-------\n",
      "[[1]\n",
      " [2]\n",
      " [3]\n",
      " [4]\n",
      " [5]\n",
      " [6]] \n",
      "-------\n",
      "[[1 2 3 4 5 6]] \n",
      "-------\n"
     ]
    }
   ],
   "source": [
    "# 2D array: all rows have the same length\n",
    "# Create 2d array from 2d list\n",
    "a = [[1, 2, 3], [4, 5, 6]]\n",
    "b = np.array(a)\n",
    "print(b)\n",
    "print(len(b), np.size(b), np.shape(b))\n",
    "c = np.reshape(b, (3, 2))\n",
    "print(c, '\\n-------')\n",
    "e = np.reshape(b, (6, 1))\n",
    "print(e, '\\n-------')\n",
    "f = np.reshape(b, (1, 6))\n",
    "print(f, '\\n-------')"
   ]
  },
  {
   "cell_type": "code",
   "execution_count": 37,
   "metadata": {},
   "outputs": [
    {
     "name": "stdout",
     "output_type": "stream",
     "text": [
      "(6,)\n",
      "(1, 6)\n",
      "(6, 1)\n"
     ]
    }
   ],
   "source": [
    "a = np.array([1, 2, 3, 4, 5, 6])\n",
    "print(np.shape(a))\n",
    "print(np.shape(f))\n",
    "print(np.shape(e))"
   ]
  },
  {
   "cell_type": "code",
   "execution_count": 41,
   "metadata": {},
   "outputs": [
    {
     "name": "stdout",
     "output_type": "stream",
     "text": [
      "[[49 50 34 99 70]\n",
      " [74 15 59 89 58]\n",
      " [18 63 55 42 58]\n",
      " [17 73 11 50 67]\n",
      " [95 13 75 73 32]]\n",
      "[[50 34]\n",
      " [15 59]\n",
      " [63 55]\n",
      " [73 11]\n",
      " [13 75]]\n"
     ]
    }
   ],
   "source": [
    "a = np.random.randint(10, 100, (5, 5))\n",
    "print(a)\n",
    "print(a[:, 1:3])"
   ]
  },
  {
   "cell_type": "code",
   "execution_count": 42,
   "metadata": {},
   "outputs": [
    {
     "name": "stdout",
     "output_type": "stream",
     "text": [
      "[[55 42]\n",
      " [11 50]]\n"
     ]
    }
   ],
   "source": [
    "print(a[2:4, 2:4])"
   ]
  },
  {
   "cell_type": "code",
   "execution_count": 44,
   "metadata": {},
   "outputs": [
    {
     "name": "stdout",
     "output_type": "stream",
     "text": [
      "70 70\n"
     ]
    }
   ],
   "source": [
    "print(a[0, -1], a[0][-1])"
   ]
  },
  {
   "cell_type": "code",
   "execution_count": 47,
   "metadata": {},
   "outputs": [
    {
     "name": "stdout",
     "output_type": "stream",
     "text": [
      "[[ 0  0  0  0  0]\n",
      " [74 15 59 89 58]\n",
      " [18 63 55 42 58]\n",
      " [17 73 11 50 67]\n",
      " [95 13 75 73 32]]\n",
      "[[ 0  0  0  0  0]\n",
      " [74 15 59 89 58]\n",
      " [18 63 55 42 58]\n",
      " [17 73 11 50 67]\n",
      " [95 13 75 73 32]]\n",
      "[[ 0  0  0  0  0]\n",
      " [74 15 59  0  0]\n",
      " [18 63 55 42 58]\n",
      " [17 73 11 50 67]\n",
      " [95 13 75 73 32]]\n"
     ]
    }
   ],
   "source": [
    "print(a)\n",
    "a[0] = 0\n",
    "print(a)\n",
    "a[:2, 3:] = 0\n",
    "print(a)"
   ]
  },
  {
   "cell_type": "code",
   "execution_count": 49,
   "metadata": {},
   "outputs": [
    {
     "name": "stdout",
     "output_type": "stream",
     "text": [
      "[[0. 0. 0. 0.]\n",
      " [0. 0. 0. 0.]\n",
      " [0. 0. 0. 0.]\n",
      " [0. 0. 0. 0.]]\n"
     ]
    }
   ],
   "source": [
    "print(np.zeros((4, 4)))"
   ]
  },
  {
   "cell_type": "code",
   "execution_count": 51,
   "metadata": {},
   "outputs": [
    {
     "name": "stdout",
     "output_type": "stream",
     "text": [
      "[[1 1 1 1 1 1 1 1]\n",
      " [1 0 0 0 0 0 0 1]\n",
      " [1 0 0 0 0 0 0 1]\n",
      " [1 0 0 0 0 0 0 1]\n",
      " [1 0 0 0 0 0 0 1]\n",
      " [1 0 0 0 0 0 0 1]\n",
      " [1 0 0 0 0 0 0 1]\n",
      " [1 1 1 1 1 1 1 1]]\n"
     ]
    }
   ],
   "source": [
    "a = np.ones((8, 8), dtype=int)\n",
    "a[1:-1, 1:-1] = 0\n",
    "print(a)"
   ]
  },
  {
   "cell_type": "code",
   "execution_count": 55,
   "metadata": {},
   "outputs": [
    {
     "name": "stdout",
     "output_type": "stream",
     "text": [
      "[[1 1 1 1 1 1 1 1]\n",
      " [1 0 0 0 0 0 0 1]\n",
      " [1 0 0 0 0 0 0 1]\n",
      " [1 0 0 0 0 0 0 1]\n",
      " [1 0 0 0 0 0 0 1]\n",
      " [1 0 0 0 0 0 0 1]\n",
      " [1 0 0 0 0 0 0 1]\n",
      " [1 1 1 1 1 1 1 1]]\n"
     ]
    }
   ],
   "source": [
    "a = np.zeros((8, 8), dtype=int)\n",
    "a[::7, :] = 1\n",
    "a[1:-1, ::7] = 1\n",
    "print(a)"
   ]
  },
  {
   "cell_type": "code",
   "execution_count": 56,
   "metadata": {},
   "outputs": [
    {
     "name": "stdout",
     "output_type": "stream",
     "text": [
      "[[1 0 1 0 1 0 1 0]\n",
      " [0 1 0 1 0 1 0 1]\n",
      " [1 0 1 0 1 0 1 0]\n",
      " [0 1 0 1 0 1 0 1]\n",
      " [1 0 1 0 1 0 1 0]\n",
      " [0 1 0 1 0 1 0 1]\n",
      " [1 0 1 0 1 0 1 0]\n",
      " [0 1 0 1 0 1 0 1]]\n"
     ]
    }
   ],
   "source": [
    "a = np.zeros((8, 8), dtype=int)\n",
    "a[::2, ::2] = 1\n",
    "a[1::2, 1::2] = 1\n",
    "print(a)"
   ]
  },
  {
   "cell_type": "code",
   "execution_count": 57,
   "metadata": {},
   "outputs": [
    {
     "name": "stdout",
     "output_type": "stream",
     "text": [
      "[[1 0 1 0 1 0 1 0]\n",
      " [0 1 0 1 0 1 0 1]\n",
      " [1 0 1 0 1 0 1 0]\n",
      " [0 1 0 1 0 1 0 1]\n",
      " [1 0 1 0 1 0 1 0]\n",
      " [0 1 0 1 0 1 0 1]\n",
      " [1 0 1 0 1 0 1 0]\n",
      " [0 1 0 1 0 1 0 1]]\n"
     ]
    }
   ],
   "source": [
    "a = np.ones((8, 8), dtype=int)\n",
    "a[::2, 1::2] = 0\n",
    "a[1::2, ::2] = 0\n",
    "print(a)"
   ]
  },
  {
   "cell_type": "code",
   "execution_count": 58,
   "metadata": {},
   "outputs": [
    {
     "name": "stdout",
     "output_type": "stream",
     "text": [
      "[[1 0 1 0 1 0 1 0]\n",
      " [0 1 0 1 0 1 0 1]\n",
      " [1 0 1 0 1 0 1 0]\n",
      " [0 1 0 1 0 1 0 1]\n",
      " [1 0 1 0 1 0 1 0]\n",
      " [0 1 0 1 0 1 0 1]\n",
      " [1 0 1 0 1 0 1 0]\n",
      " [0 1 0 1 0 1 0 1]]\n"
     ]
    }
   ],
   "source": [
    "a = ([1, 0] * 4 + [0, 1] * 4) * 4\n",
    "a = np.reshape(a, (8, 8))\n",
    "print(a)"
   ]
  },
  {
   "cell_type": "code",
   "execution_count": 59,
   "metadata": {},
   "outputs": [
    {
     "name": "stdout",
     "output_type": "stream",
     "text": [
      "[[20 67 78 82 80 37 21 92]\n",
      " [79 25 69 85 40 14 59 30]\n",
      " [86 40 12 98 62 37 31 55]\n",
      " [87 71 97 16 54 24 29 89]\n",
      " [29 87 63 67 71 86 95 24]\n",
      " [10 35 42 24 51 65 86 42]\n",
      " [66 64 14 13 47 84 43 27]\n",
      " [85 73 32 60 80 40 36 34]]\n"
     ]
    }
   ],
   "source": [
    "a = np.random.randint(10, 99, (8, 8))\n",
    "print(a)"
   ]
  },
  {
   "cell_type": "code",
   "execution_count": 60,
   "metadata": {},
   "outputs": [
    {
     "name": "stdout",
     "output_type": "stream",
     "text": [
      "[[-20 -67  78 -82 -80 -37  21 -92]\n",
      " [-79 -25  69 -85 -40 -14 -59  30]\n",
      " [-86 -40  12 -98 -62 -37 -31 -55]\n",
      " [ 87 -71 -97 -16  54  24 -29 -89]\n",
      " [-29  87  63 -67 -71 -86 -95  24]\n",
      " [-10 -35  42  24  51 -65 -86  42]\n",
      " [ 66 -64 -14 -13 -47  84 -43  27]\n",
      " [-85 -73 -32  60 -80 -40  36 -34]]\n"
     ]
    }
   ],
   "source": [
    "a[a % 3 != 0] *= -1\n",
    "print(a)"
   ]
  },
  {
   "cell_type": "code",
   "execution_count": null,
   "metadata": {},
   "outputs": [],
   "source": []
  }
 ],
 "metadata": {
  "kernelspec": {
   "display_name": "Python 3",
   "language": "python",
   "name": "python3"
  },
  "language_info": {
   "codemirror_mode": {
    "name": "ipython",
    "version": 3
   },
   "file_extension": ".py",
   "mimetype": "text/x-python",
   "name": "python",
   "nbconvert_exporter": "python",
   "pygments_lexer": "ipython3",
   "version": "3.9.12"
  },
  "orig_nbformat": 4
 },
 "nbformat": 4,
 "nbformat_minor": 2
}
