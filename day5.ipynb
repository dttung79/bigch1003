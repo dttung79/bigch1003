{
 "cells": [
  {
   "cell_type": "code",
   "execution_count": 2,
   "metadata": {},
   "outputs": [
    {
     "name": "stdout",
     "output_type": "stream",
     "text": [
      "một\n",
      "mười\n"
     ]
    }
   ],
   "source": [
    "num_dict = { 'one': 'một', 'two': 'hai', 'three': 'ba', 'four': 'bốn', 'five': 'năm', 'six': 'sáu', 'seven': 'bảy', \n",
    "            'eight': 'tám', 'nine': 'chín', 'ten': 'mười' }\n",
    "\n",
    "print(num_dict['one']) # key is a string, value is a string\n",
    "print(num_dict['ten'])"
   ]
  },
  {
   "cell_type": "code",
   "execution_count": 4,
   "metadata": {},
   "outputs": [
    {
     "name": "stdout",
     "output_type": "stream",
     "text": [
      "0\n",
      "1000\n"
     ]
    }
   ],
   "source": [
    "a = {0: '0', 1: '1', 2: '10', 3: '11', 4: '100', 5: '101', 6: '110', \n",
    "     7: '111', 8: '1000', 9: '1001', 10: '1010'}\n",
    "print(a[0]) # key is an integer, value is a string\n",
    "print(a[8])"
   ]
  },
  {
   "cell_type": "code",
   "execution_count": 6,
   "metadata": {},
   "outputs": [
    {
     "name": "stdout",
     "output_type": "stream",
     "text": [
      "('John', 7.0)\n",
      "John\n"
     ]
    }
   ],
   "source": [
    "students = {'GCH1998': ('John', 7.0), 'GCH1999': ('Mary', 8.5), 'GCH2000': ('Peter', 9.0)}\n",
    "print(students['GCH1998'])      # key is a string, value is a tuple\n",
    "print(students['GCH1998'][0])   # get the first element of the tuple"
   ]
  },
  {
   "cell_type": "code",
   "execution_count": 7,
   "metadata": {},
   "outputs": [
    {
     "name": "stdout",
     "output_type": "stream",
     "text": [
      "5\n",
      "nothing\n",
      "None\n"
     ]
    }
   ],
   "source": [
    "# key of different types, value of different types\n",
    "a = {'nothing': 5, 5: 'nothing', (5, 'nothing'): None} \n",
    "print(a['nothing'])\n",
    "print(a[5])\n",
    "print(a[(5, 'nothing')])"
   ]
  },
  {
   "cell_type": "code",
   "execution_count": 9,
   "metadata": {},
   "outputs": [],
   "source": [
    "rooms = {'Mary': 300, 'Paul': 220, 'John': 104, 'Peter': 109}\n",
    "# new guest arrives, ask for name & room number\n",
    "name = input('Enter guest name: ')\n",
    "if name in rooms:\n",
    "    print(f'Guest name is already checked in')\n",
    "else:\n",
    "    room_no = int(input('Enter room number: '))\n",
    "    # add new (key, value) pair to the dictionary\n",
    "    rooms[name] = room_no"
   ]
  },
  {
   "cell_type": "code",
   "execution_count": 10,
   "metadata": {},
   "outputs": [],
   "source": [
    "# A guest wants to change his/her room\n",
    "name = input('Enter guest name: ')\n",
    "if name not in rooms:\n",
    "    print(f'Guest {name} is not checked in')\n",
    "else:\n",
    "    room_no = int(input('Enter room number to change: '))\n",
    "    # add new (key, value) pair to the dictionary\n",
    "    rooms[name] = room_no"
   ]
  },
  {
   "cell_type": "code",
   "execution_count": 12,
   "metadata": {},
   "outputs": [
    {
     "name": "stdout",
     "output_type": "stream",
     "text": [
      "Goodbye John! Hope to see you again soon!\n"
     ]
    }
   ],
   "source": [
    "# A guest wants to check out\n",
    "name = input('Enter guest name: ')\n",
    "if name not in rooms:\n",
    "    print(f'Guest {name} is not checked in')\n",
    "else:\n",
    "    # remove (key, value) pair from the dictionary\n",
    "    del rooms[name]\n",
    "    print(f'Goodbye {name}! Hope to see you again soon!')"
   ]
  },
  {
   "cell_type": "code",
   "execution_count": 13,
   "metadata": {},
   "outputs": [
    {
     "name": "stdout",
     "output_type": "stream",
     "text": [
      "Guest Mary stayed in room 300\n",
      "Guest Paul stayed in room 220\n",
      "Guest Peter stayed in room 300\n"
     ]
    }
   ],
   "source": [
    "for name in rooms:\n",
    "    print(f'Guest {name} stayed in room {rooms[name]}')"
   ]
  },
  {
   "cell_type": "code",
   "execution_count": 14,
   "metadata": {},
   "outputs": [
    {
     "name": "stdout",
     "output_type": "stream",
     "text": [
      "Guest Mary stayed in room 300\n",
      "Guest Paul stayed in room 220\n",
      "Guest Peter stayed in room 300\n"
     ]
    }
   ],
   "source": [
    "for name, room_no in rooms.items():\n",
    "    print(f'Guest {name} stayed in room {room_no}')"
   ]
  },
  {
   "cell_type": "code",
   "execution_count": 16,
   "metadata": {},
   "outputs": [
    {
     "name": "stdout",
     "output_type": "stream",
     "text": [
      "[('Mary', 300), ('Paul', 220), ('Peter', 300)]\n"
     ]
    }
   ],
   "source": [
    "print(list(rooms.items()))"
   ]
  },
  {
   "cell_type": "code",
   "execution_count": 17,
   "metadata": {},
   "outputs": [
    {
     "name": "stdout",
     "output_type": "stream",
     "text": [
      "['Mary', 'Paul', 'Peter']\n",
      "[300, 220, 300]\n"
     ]
    }
   ],
   "source": [
    "guest_names = list(rooms.keys())\n",
    "room_numbers = list(rooms.values())\n",
    "print(guest_names, room_numbers, sep='\\n')"
   ]
  },
  {
   "cell_type": "code",
   "execution_count": 22,
   "metadata": {},
   "outputs": [],
   "source": [
    "products = {} # empty dictionary of products where key is product name and value is price"
   ]
  },
  {
   "cell_type": "code",
   "execution_count": 26,
   "metadata": {},
   "outputs": [],
   "source": [
    "# Add product to the dictionary\n",
    "product_name = input('Enter product name: ')\n",
    "if product_name in products:\n",
    "    print(f'Product {product_name} already exists')\n",
    "else:\n",
    "    product_price = float(input('Enter product price: '))\n",
    "    products[product_name] = product_price"
   ]
  },
  {
   "cell_type": "code",
   "execution_count": 27,
   "metadata": {},
   "outputs": [
    {
     "name": "stdout",
     "output_type": "stream",
     "text": [
      "Product keyboard price changed to 220.0\n"
     ]
    }
   ],
   "source": [
    "# Change price of a product\n",
    "product_name = input('Enter product name: ')\n",
    "if product_name not in products:\n",
    "    print(f'Product {product_name} not exists')\n",
    "else:\n",
    "    product_price = float(input('Enter product price: '))\n",
    "    products[product_name] = product_price\n",
    "    print(f'Product {product_name} price changed to {product_price}')"
   ]
  },
  {
   "cell_type": "code",
   "execution_count": 28,
   "metadata": {},
   "outputs": [
    {
     "name": "stdout",
     "output_type": "stream",
     "text": [
      "Product monitor removed\n",
      "Product computer costs 1000.0\n",
      "Product keyboard costs 220.0\n"
     ]
    }
   ],
   "source": [
    "# Remove product from the dictionary\n",
    "product_name = input('Enter product name to remove: ')\n",
    "if product_name not in products:\n",
    "    print(f'Product {product_name} not exists')\n",
    "else:\n",
    "    del products[product_name]\n",
    "    print(f'Product {product_name} removed')\n",
    "# Print all products and their prices\n",
    "for product_name in products:\n",
    "    print(f'Product {product_name} costs {products[product_name]}')"
   ]
  },
  {
   "cell_type": "code",
   "execution_count": 30,
   "metadata": {},
   "outputs": [
    {
     "name": "stdout",
     "output_type": "stream",
     "text": [
      "[65, 49, 19, 58, 13, 25, 66, 92, 36, 99, 35, 54, 40, 67, 29, 62, 96, 84, 83, 32]\n",
      "[58, 66, 92, 36, 54, 40, 62, 96, 84, 32]\n"
     ]
    }
   ],
   "source": [
    "import random as rd\n",
    "numbers = rd.sample(range(100), 20)\n",
    "print(numbers)\n",
    "evens = []\n",
    "for n in numbers:\n",
    "    if n % 2 == 0:\n",
    "        evens.append(n)\n",
    "print(evens)"
   ]
  },
  {
   "cell_type": "code",
   "execution_count": 31,
   "metadata": {},
   "outputs": [
    {
     "name": "stdout",
     "output_type": "stream",
     "text": [
      "[58, 66, 92, 36, 54, 40, 62, 96, 84, 32]\n"
     ]
    }
   ],
   "source": [
    "evens = [n for n in numbers if n % 2 == 0] # list comprehension\n",
    "print(evens)"
   ]
  },
  {
   "cell_type": "code",
   "execution_count": 32,
   "metadata": {},
   "outputs": [
    {
     "name": "stdout",
     "output_type": "stream",
     "text": [
      "[0.65, 0.49, 0.19, 0.58, 0.13, 0.25, 0.66, 0.92, 0.36, 0.99, 0.35, 0.54, 0.4, 0.67, 0.29, 0.62, 0.96, 0.84, 0.83, 0.32]\n"
     ]
    }
   ],
   "source": [
    "# List comprehension syntax: [x for y in z if w]\n",
    "floats = [n / 100 for n in numbers]\n",
    "print(floats)"
   ]
  },
  {
   "cell_type": "code",
   "execution_count": 36,
   "metadata": {},
   "outputs": [
    {
     "name": "stdout",
     "output_type": "stream",
     "text": [
      "[8, 13, 12, 17, 12, 16]\n",
      "['Demba', 'Alexi', 'Lionel', 'Cristiano', 'Wayne', 'Robin']\n",
      "['Cristiano Ronaldo', 'Robin Van Persie']\n"
     ]
    }
   ],
   "source": [
    "names = ['Demba Ba', 'Alexi Sanchez', 'Lionel Messi', 'Cristiano Ronaldo', \n",
    "         'Wayne Rooney', 'Robin Van Persie']\n",
    "\n",
    "# create a list of length of names\n",
    "lengths = [len(n) for n in names]\n",
    "print(lengths)\n",
    "# create a list of first names\n",
    "first_names = [n.split()[0] for n in names]\n",
    "print(first_names)\n",
    "# create a list of long names (length > 15)\n",
    "long_names = [n for n in names if len(n) > 15]\n",
    "print(long_names)"
   ]
  },
  {
   "cell_type": "code",
   "execution_count": 39,
   "metadata": {},
   "outputs": [
    {
     "name": "stdout",
     "output_type": "stream",
     "text": [
      "9.0\n",
      "9.0\n",
      "['Peter']\n"
     ]
    }
   ],
   "source": [
    "students = {'Mike': 7.0, 'Mary': 8.5, 'Peter': 9.0, 'John': 6.0}\n",
    "# Find student who has the highest GPA\n",
    "max_gpa = max(students.values())\n",
    "print(max_gpa)  \n",
    "max_gpa = max([gpa for _, gpa in students.items()])\n",
    "print(max_gpa)\n",
    "best_students = [name for name, gpa in students.items() if gpa == max_gpa]\n",
    "print(best_students)"
   ]
  },
  {
   "cell_type": "code",
   "execution_count": 41,
   "metadata": {},
   "outputs": [
    {
     "name": "stdout",
     "output_type": "stream",
     "text": [
      "Peter\n",
      "John\n"
     ]
    }
   ],
   "source": [
    "best_student = max(students, key=students.get)\n",
    "print(best_student)\n",
    "worst_student = min(students, key=students.get)\n",
    "print(worst_student)"
   ]
  },
  {
   "cell_type": "code",
   "execution_count": 42,
   "metadata": {},
   "outputs": [
    {
     "name": "stdout",
     "output_type": "stream",
     "text": [
      "7.625\n"
     ]
    }
   ],
   "source": [
    "mean_gpa = sum(students.values()) / len(students)\n",
    "print(mean_gpa)"
   ]
  },
  {
   "cell_type": "code",
   "execution_count": 43,
   "metadata": {},
   "outputs": [
    {
     "name": "stdout",
     "output_type": "stream",
     "text": [
      "[51, 7, 1, 82, 59, 95, 38, 44, 56, 43, 9, 2, 84, 87, 53, 14, 76, 64, 89, 26]\n",
      "[51, 82, 59, 95, 56, 84, 87, 53, 76, 64, 89]\n"
     ]
    }
   ],
   "source": [
    "numbers = rd.sample(range(100), 20)\n",
    "bigs = [n for n in numbers if n > 50]\n",
    "print(numbers)\n",
    "print(bigs)"
   ]
  },
  {
   "cell_type": "code",
   "execution_count": 44,
   "metadata": {},
   "outputs": [
    {
     "name": "stdout",
     "output_type": "stream",
     "text": [
      "[51, 82, 59, 95, 56, 84, 87, 53, 76, 64, 89]\n",
      "[51, 82, 59, 95, 56, 84, 87, 53, 76, 64, 89]\n"
     ]
    }
   ],
   "source": [
    "gt_means = [n for n in numbers if n > sum(numbers) / len(numbers)]\n",
    "print(gt_means)\n",
    "\n",
    "mean_number = sum(numbers) / len(numbers)\n",
    "gt_means = [n for n in numbers if n > mean_number]\n",
    "print(gt_means)"
   ]
  },
  {
   "cell_type": "code",
   "execution_count": 45,
   "metadata": {},
   "outputs": [
    {
     "name": "stdout",
     "output_type": "stream",
     "text": [
      "[82, 38, 44, 56, 2, 84, 14, 76, 64, 26, 51, 7, 1, 59, 95, 43, 9, 87, 53, 89]\n"
     ]
    }
   ],
   "source": [
    "evens = [n for n in numbers if n % 2 == 0]\n",
    "odds = [n for n in numbers if n % 2 == 1]\n",
    "new_numbers = evens + odds\n",
    "print(new_numbers)"
   ]
  },
  {
   "cell_type": "code",
   "execution_count": 47,
   "metadata": {},
   "outputs": [
    {
     "name": "stdout",
     "output_type": "stream",
     "text": [
      "[51, 7, 1, 82, 59, 95, 38, 44, 56, 43, 9, 2, 84, 87, 53, 14, 76, 64, 89, 26]\n",
      "[51, 1, 59, 38, 56, 9, 84, 53, 76, 89]\n"
     ]
    }
   ],
   "source": [
    "print(numbers)\n",
    "even_indexes = [numbers[i] for i in range(0, len(numbers), 2)]\n",
    "print(even_indexes)"
   ]
  },
  {
   "cell_type": "code",
   "execution_count": 49,
   "metadata": {},
   "outputs": [],
   "source": [
    "students = {'Mike': 7.0, 'Mary': 8.5, 'Peter': 5.0, 'John': 6.0, 'Jane': 8.0, 'Bob': 7.5,\n",
    "            'Alice': 3.0, 'Tom': 5.5, 'Jerry': 4.5, 'Marry': 8.5}"
   ]
  },
  {
   "cell_type": "code",
   "execution_count": 51,
   "metadata": {},
   "outputs": [
    {
     "name": "stdout",
     "output_type": "stream",
     "text": [
      "Distinction:  ['Mary', 'Marry'] 2\n",
      "Merits:  ['Mike', 'Jane', 'Bob'] 3\n",
      "Passes:  ['Peter', 'John', 'Tom', 'Jerry'] 4\n",
      "Fails:  ['Alice'] 1\n"
     ]
    }
   ],
   "source": [
    "distinctions = [name for name, gpa in students.items() if gpa > 8.0]\n",
    "merits = [name for name, gpa in students.items() if 6.5 < gpa <=8.0] \n",
    "passes = [name for name, gpa in students.items() if 4.0 <= gpa <= 6.5]\n",
    "fails = [name for name, gpa in students.items() if gpa < 4.0]\n",
    "\n",
    "print('Distinction: ', distinctions, len(distinctions))\n",
    "print('Merits: ', merits, len(merits))\n",
    "print('Passes: ', passes, len(passes))\n",
    "print('Fails: ', fails, len(fails))"
   ]
  },
  {
   "cell_type": "code",
   "execution_count": 53,
   "metadata": {},
   "outputs": [
    {
     "name": "stdout",
     "output_type": "stream",
     "text": [
      "Pass rate: 90.0%\n"
     ]
    }
   ],
   "source": [
    "pass_rate = 100 * (1 - len(fails)/ len(students))\n",
    "print(f'Pass rate: {pass_rate}%')"
   ]
  }
 ],
 "metadata": {
  "kernelspec": {
   "display_name": "Python 3",
   "language": "python",
   "name": "python3"
  },
  "language_info": {
   "codemirror_mode": {
    "name": "ipython",
    "version": 3
   },
   "file_extension": ".py",
   "mimetype": "text/x-python",
   "name": "python",
   "nbconvert_exporter": "python",
   "pygments_lexer": "ipython3",
   "version": "3.9.12"
  },
  "orig_nbformat": 4
 },
 "nbformat": 4,
 "nbformat_minor": 2
}
