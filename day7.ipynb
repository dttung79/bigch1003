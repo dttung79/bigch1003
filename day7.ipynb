{
 "cells": [
  {
   "cell_type": "code",
   "execution_count": 1,
   "metadata": {},
   "outputs": [
    {
     "name": "stdout",
     "output_type": "stream",
     "text": [
      "4\n",
      "\n",
      "4 5\n"
     ]
    }
   ],
   "source": [
    "# Function that can pass as many arguments as you want\n",
    "print(4)\n",
    "print()\n",
    "print(4, 5)"
   ]
  },
  {
   "cell_type": "code",
   "execution_count": 5,
   "metadata": {},
   "outputs": [],
   "source": [
    "def my_sum(items):\n",
    "    s = 0\n",
    "    for i in range(len(items)):\n",
    "        s += items[i]\n",
    "    return s"
   ]
  },
  {
   "cell_type": "code",
   "execution_count": 6,
   "metadata": {},
   "outputs": [
    {
     "name": "stdout",
     "output_type": "stream",
     "text": [
      "6\n"
     ]
    }
   ],
   "source": [
    "s = my_sum((1, 2, 3))\n",
    "print(s)"
   ]
  },
  {
   "cell_type": "code",
   "execution_count": 13,
   "metadata": {},
   "outputs": [],
   "source": [
    "def my_sum(*items):         # * allows to pass as many arguments as you want\n",
    "    print(type(items))      # python will wrap the arguments into a tuple\n",
    "    s = 0\n",
    "    for i in range(len(items)):\n",
    "        s += items[i]\n",
    "    return s"
   ]
  },
  {
   "cell_type": "code",
   "execution_count": null,
   "metadata": {},
   "outputs": [],
   "source": [
    "s = my_sum(1, 2, 3)        # items is (1, 2, 3)\n",
    "print(s)\n",
    "print(my_sum())            # items is ()\n",
    "print(my_sum(1, 4))        # items is (1, 4)"
   ]
  },
  {
   "cell_type": "code",
   "execution_count": null,
   "metadata": {},
   "outputs": [],
   "source": [
    "import numpy as np\n",
    "s = my_sum(np.array([1, 2, 3]))  # items is ([1 2 3])\n",
    "print(s)"
   ]
  },
  {
   "cell_type": "code",
   "execution_count": 20,
   "metadata": {},
   "outputs": [
    {
     "name": "stdout",
     "output_type": "stream",
     "text": [
      "Max = 5, Min = 4\n"
     ]
    }
   ],
   "source": [
    "def min_max(a, b):\n",
    "    if a > b:\n",
    "        return a, b\n",
    "    else:\n",
    "        return b, a\n",
    "a = int(input('Enter a: '))\n",
    "b = int(input('Enter b: '))\n",
    "x, y = min_max(a, b)    # python unpack tuple into x and y\n",
    "print(f'Max = {x}, Min = {y}')"
   ]
  },
  {
   "cell_type": "code",
   "execution_count": 21,
   "metadata": {},
   "outputs": [
    {
     "name": "stdout",
     "output_type": "stream",
     "text": [
      "Max = 5\n",
      "Min = 4\n"
     ]
    }
   ],
   "source": [
    "x, _ = min_max(a, b)        # _ is a dummy variable, python unpack just 1st element\n",
    "print(f'Max = {x}')\n",
    "_, y = min_max(a, b)        # _ is a dummy variable, python unpack just 2nd element\n",
    "print(f'Min = {y}')"
   ]
  },
  {
   "cell_type": "code",
   "execution_count": 23,
   "metadata": {},
   "outputs": [
    {
     "name": "stdout",
     "output_type": "stream",
     "text": [
      "(5, 4)\n"
     ]
    }
   ],
   "source": [
    "x = min_max(a, b) # no unpacking, x is a tuple\n",
    "print(x)           "
   ]
  },
  {
   "cell_type": "code",
   "execution_count": 24,
   "metadata": {},
   "outputs": [],
   "source": [
    "def quadratic(a, b, c):\n",
    "    delta = b**2 - 4*a*c\n",
    "    if delta < 0:\n",
    "        return                      # no return\n",
    "    elif delta == 0:\n",
    "        return -b/(2*a)             # return 1 value\n",
    "    else:\n",
    "        x_1 = (-b + delta**0.5)/(2*a)\n",
    "        x_2 = (-b - delta**0.5)/(2*a)\n",
    "        return x_1, x_2             # return 2 values"
   ]
  },
  {
   "cell_type": "code",
   "execution_count": 30,
   "metadata": {},
   "outputs": [
    {
     "name": "stdout",
     "output_type": "stream",
     "text": [
      "Solve 6x^2 + 1x + 8 = 0\n",
      "No solution\n"
     ]
    }
   ],
   "source": [
    "a = int(input('Enter a: '))\n",
    "b = int(input('Enter b: '))\n",
    "c = int(input('Enter c: '))\n",
    "print(f'Solve {a}x^2 + {b}x + {c} = 0')\n",
    "x = quadratic(a, b, c)\n",
    "if x is None:\n",
    "    print('No solution')\n",
    "elif type(x) is float:\n",
    "    print(f'x = {x:.2f}')\n",
    "else:\n",
    "    print(f'x_1 = {x[0]:.2f}, x_2 = {x[1]:.2f}')"
   ]
  },
  {
   "cell_type": "code",
   "execution_count": null,
   "metadata": {},
   "outputs": [],
   "source": [
    "names = ['John Lennon', 'Bob Marley', 'Bob Dylan', 'Alice Cooper']\n",
    "n = max(names)\n",
    "print(n)\n",
    "n = max(names, key=len)\n",
    "print(n)"
   ]
  },
  {
   "cell_type": "code",
   "execution_count": null,
   "metadata": {},
   "outputs": [],
   "source": [
    "def same(x):\n",
    "    return x\n",
    "def my_max(items, key=same):\n",
    "    m = items[0]\n",
    "    for i in range(1, len(items)):\n",
    "        if key(items[i]) > key(m):\n",
    "            m = items[i]\n",
    "    return m\n",
    "print(my_max(names))\n",
    "print(my_max(names, key=len))"
   ]
  },
  {
   "cell_type": "code",
   "execution_count": null,
   "metadata": {},
   "outputs": [],
   "source": [
    "def neg_len(x):\n",
    "    return -len(x)\n",
    "print(my_max(names, key=neg_len))"
   ]
  },
  {
   "cell_type": "code",
   "execution_count": 42,
   "metadata": {},
   "outputs": [
    {
     "name": "stdout",
     "output_type": "stream",
     "text": [
      "Bob Marley\n"
     ]
    }
   ],
   "source": [
    "def last_name(n):\n",
    "    return n.split()[-1]\n",
    "print(my_max(names, key=last_name))"
   ]
  },
  {
   "cell_type": "code",
   "execution_count": null,
   "metadata": {},
   "outputs": [],
   "source": [
    "def greater(a, b):\n",
    "    return a > b\n",
    "\n",
    "def my_sort(items, compare=greater):\n",
    "    for i in range(len(items)-1):\n",
    "        for j in range(i+1, len(items)):\n",
    "            if compare(items[i], items[j]):\n",
    "                items[i], items[j] = items[j], items[i]\n",
    "    return items\n",
    "\n",
    "numbers = np.random.randint(-100, 100, 15)\n",
    "my_sort(numbers)\n",
    "print(numbers)"
   ]
  },
  {
   "cell_type": "code",
   "execution_count": null,
   "metadata": {},
   "outputs": [],
   "source": [
    "def less(a, b):\n",
    "    return a < b\n",
    "my_sort(numbers, less)\n",
    "print(numbers)"
   ]
  },
  {
   "cell_type": "code",
   "execution_count": 49,
   "metadata": {},
   "outputs": [
    {
     "name": "stdout",
     "output_type": "stream",
     "text": [
      "[  5   8 -10 -12  20  23 -36 -40 -61 -63 -67  68 -79  85 -93]\n",
      "[-93  85 -79  68 -67 -63 -61 -40 -36  23  20 -12 -10   8   5]\n",
      "['Do Thi Lan', 'Ho Thu Ha', 'Hoang Mai', 'Le Trung Binh', 'Le Duc Hoa', 'Nguyen Van Binh', 'Nguyen Thi Mai', 'Nguyen Van An']\n",
      "['Do Thi Lan', 'Ho Thu Ha', 'Le Trung Binh', 'Nguyen Van An', 'Le Duc Hoa', 'Nguyen Van Binh', 'Hoang Mai', 'Nguyen Thi Mai']\n"
     ]
    }
   ],
   "source": [
    "# Sort numbers ascending by absolute value\n",
    "def greater_abs(a, b):\n",
    "    return abs(a) > abs(b)\n",
    "my_sort(numbers, compare=greater_abs)\n",
    "print(numbers)\n",
    "# Sort numbers descending by absolute value\n",
    "def less_abs(a, b):\n",
    "    return abs(a) < abs(b)\n",
    "# Sort numbers ascending by the last digit\n",
    "my_sort(numbers, compare=less_abs)\n",
    "print(numbers)\n",
    "names = ['Nguyen Van Binh', 'Nguyen Van An', 'Le Trung Binh', 'Le Duc Hoa',\n",
    "         'Hoang Mai', 'Ho Thu Ha', 'Nguyen Thi Mai', 'Do Thi Lan']\n",
    "# Sort names by last name then first name (Vietnamesse name)\n",
    "def greater_vn_first(a, b):\n",
    "    return a.split()[-1] > b.split()[-1]\n",
    "def greater_vn_last(a, b):\n",
    "    return a.split()[0] > b.split()[0]\n",
    "my_sort(names, compare=greater_vn_first)\n",
    "my_sort(names, compare=greater_vn_last)\n",
    "print(names)\n",
    "# Sort names by number of vowels (aeiou) in name\n",
    "def greater_vowels(a, b):\n",
    "    vowels = 'aeiou'\n",
    "    return len([c for c in a if c in vowels]) > len([c for c in b if c in vowels])\n",
    "\n",
    "my_sort(names, compare=greater_vowels)\n",
    "print(names)"
   ]
  }
 ],
 "metadata": {
  "kernelspec": {
   "display_name": "Python 3",
   "language": "python",
   "name": "python3"
  },
  "language_info": {
   "codemirror_mode": {
    "name": "ipython",
    "version": 3
   },
   "file_extension": ".py",
   "mimetype": "text/x-python",
   "name": "python",
   "nbconvert_exporter": "python",
   "pygments_lexer": "ipython3",
   "version": "3.9.12"
  },
  "orig_nbformat": 4
 },
 "nbformat": 4,
 "nbformat_minor": 2
}
