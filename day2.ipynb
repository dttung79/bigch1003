{
 "cells": [
  {
   "cell_type": "code",
   "execution_count": 1,
   "metadata": {},
   "outputs": [
    {
     "name": "stdout",
     "output_type": "stream",
     "text": [
      "[]\n",
      "[1, 2, 3, 4, 5]\n",
      "[None, None, None, None, None]\n"
     ]
    }
   ],
   "source": [
    "# Declare a list:[]\n",
    "a = [] # empty list\n",
    "b = [1, 2, 3, 4, 5] # list of integers\n",
    "c = [None] * 5 # list of 5 None values\n",
    "print(a)\n",
    "print(b)\n",
    "print(c)"
   ]
  },
  {
   "cell_type": "code",
   "execution_count": 3,
   "metadata": {},
   "outputs": [
    {
     "name": "stdout",
     "output_type": "stream",
     "text": [
      "1\n",
      "1\n",
      "5\n",
      "5\n"
     ]
    }
   ],
   "source": [
    "# List indexing: positive index and negative index\n",
    "print(b[0]) # 1\n",
    "print(b[-5])\n",
    "print(b[4])\n",
    "print(b[-1])"
   ]
  },
  {
   "cell_type": "code",
   "execution_count": 5,
   "metadata": {},
   "outputs": [
    {
     "name": "stdout",
     "output_type": "stream",
     "text": [
      "[1, 2.5, True, 'Hello', [1, 2, 3]]\n",
      "5\n"
     ]
    }
   ],
   "source": [
    "# List can have items of different types\n",
    "a = [1, 2.5, True, 'Hello', [1, 2, 3]]\n",
    "print(a)\n",
    "print(len(a))"
   ]
  },
  {
   "cell_type": "code",
   "execution_count": 10,
   "metadata": {},
   "outputs": [
    {
     "name": "stdout",
     "output_type": "stream",
     "text": [
      "[37, 2, 59, 4, 20, 34, 43, 51, 26, 45]\n"
     ]
    }
   ],
   "source": [
    "# List methods: append, insert, remove, pop, index, count, sort, reverse\n",
    "import random as rd\n",
    "numbers = rd.sample(range(100), 10)\n",
    "print(numbers)"
   ]
  },
  {
   "cell_type": "code",
   "execution_count": null,
   "metadata": {},
   "outputs": [],
   "source": [
    "numbers.append(100) # add 100 to the end of the list\n",
    "print(numbers)"
   ]
  },
  {
   "cell_type": "code",
   "execution_count": null,
   "metadata": {},
   "outputs": [],
   "source": [
    "numbers.insert(0, 10) # add 10 at index 0\n",
    "print(numbers)"
   ]
  },
  {
   "cell_type": "code",
   "execution_count": null,
   "metadata": {},
   "outputs": [],
   "source": [
    "numbers.remove(20) # remove the first occurrence of 20\n",
    "print(numbers)"
   ]
  },
  {
   "cell_type": "code",
   "execution_count": null,
   "metadata": {},
   "outputs": [],
   "source": [
    "numbers.pop() # remove the last item\n",
    "print(numbers)\n",
    "n = numbers.pop(3) # remove the item at index 3\n",
    "print(n)\n",
    "print(numbers)"
   ]
  },
  {
   "cell_type": "code",
   "execution_count": null,
   "metadata": {},
   "outputs": [],
   "source": [
    "a = [1, 2, 1, 2, 1, 2]\n",
    "n = a.count(1) # count the number of occurrences of 1\n",
    "print(n)"
   ]
  },
  {
   "cell_type": "code",
   "execution_count": null,
   "metadata": {},
   "outputs": [],
   "source": [
    "numbers.reverse()\n",
    "print(numbers)\n",
    "numbers.sort()\n",
    "print(numbers)"
   ]
  },
  {
   "cell_type": "code",
   "execution_count": 19,
   "metadata": {},
   "outputs": [
    {
     "name": "stdout",
     "output_type": "stream",
     "text": [
      "[2, 4, 10, 26, 34, 37, 43, 45, 51]\n",
      "Sum = 252\n",
      "Max = 51\n",
      "Min = 2\n",
      "4\n"
     ]
    }
   ],
   "source": [
    "print(numbers)\n",
    "print(f'Sum = {sum(numbers)}')\n",
    "print(f'Max = {max(numbers)}')\n",
    "print(f'Min = {min(numbers)}')\n",
    "pos = numbers.index(34)\n",
    "print(pos)"
   ]
  },
  {
   "cell_type": "code",
   "execution_count": 26,
   "metadata": {},
   "outputs": [
    {
     "name": "stdout",
     "output_type": "stream",
     "text": [
      "The most expensive product is book\n",
      "The most expensive product is book\n"
     ]
    }
   ],
   "source": [
    "products = ['pen', 'pencil', 'notebook', 'eraser', 'ruler', 'book']\n",
    "prices = [10, 5, 20, 2, 8, 25]\n",
    "solds = [110, 180, 58, 150, 120, 30]\n",
    "\n",
    "# Find the most expensive product\n",
    "max_price = prices[0]\n",
    "i_max = 0\n",
    "for i in range(len(prices)):\n",
    "    if prices[i] > max_price:\n",
    "        max_price = prices[i]\n",
    "        i_max = i\n",
    "print(f'The most expensive product is {products[i_max]}')\n",
    "print(f'The most expensive product is {products[prices.index(max(prices))]}')"
   ]
  },
  {
   "cell_type": "code",
   "execution_count": 27,
   "metadata": {},
   "outputs": [
    {
     "name": "stdout",
     "output_type": "stream",
     "text": [
      "The least sold product is book\n",
      "The least sold product is book\n"
     ]
    }
   ],
   "source": [
    "# Find the least sold product\n",
    "min_sold = solds[0]\n",
    "i_min = 0\n",
    "for i in range(len(solds)):\n",
    "    if solds[i] < min_sold:\n",
    "        min_sold = solds[i]\n",
    "        i_min = i\n",
    "print(f'The least sold product is {products[i_min]}')\n",
    "print(f'The least sold product is {products[solds.index(min(solds))]}')"
   ]
  },
  {
   "cell_type": "code",
   "execution_count": 29,
   "metadata": {},
   "outputs": [
    {
     "name": "stdout",
     "output_type": "stream",
     "text": [
      "Total revenue = 5170\n",
      "Number of products with revenue > average revenue = 4\n"
     ]
    }
   ],
   "source": [
    "# Find the total revenue\n",
    "s = 0\n",
    "for i in range(len(prices)):\n",
    "    s += prices[i] * solds[i]\n",
    "print(f'Total revenue = {s}')\n",
    "# Count how many products have revenue > average revenue\n",
    "average_revenue = s / len(prices)\n",
    "\n",
    "count = 0\n",
    "for i in range(len(prices)):\n",
    "    if prices[i] * solds[i] > average_revenue:\n",
    "        count += 1 \n",
    "print(f'Number of products with revenue > average revenue = {count}')"
   ]
  },
  {
   "cell_type": "code",
   "execution_count": 41,
   "metadata": {},
   "outputs": [
    {
     "name": "stdout",
     "output_type": "stream",
     "text": [
      "[4, 5, 6]\n",
      "[6, 5, 4]\n",
      "[1, 2, 3, 4]\n",
      "[7, 8, 9, 10]\n",
      "[7, 8, 9, 10]\n",
      "[2, 4, 6]\n",
      "[10, 8, 6, 4, 2]\n"
     ]
    }
   ],
   "source": [
    "# Slicing: [start:end:step]\n",
    "numbers = [1, 2, 3, 4, 5, 6, 7, 8, 9, 10]\n",
    "print(numbers[3:6])\n",
    "print(numbers[5:2:-1])\n",
    "print(numbers[:4])\n",
    "print(numbers[6:])\n",
    "print(numbers[-4:])\n",
    "print(numbers[1:6:2])\n",
    "print(numbers[::-2])"
   ]
  },
  {
   "cell_type": "code",
   "execution_count": 43,
   "metadata": {},
   "outputs": [
    {
     "name": "stdout",
     "output_type": "stream",
     "text": [
      "[1, 2, 3, 4, 5, 6, 7, 8, 9, 10]\n",
      "[1, 2, 3, 4, 5, 6, 7, 8, 9, 10]\n",
      "[1, 2, 3, 4, 5, 6, 7, 8, 9, 10]\n",
      "[100, 2, 3, 4, 5, 6, 7, 8, 9, 10]\n",
      "[1, 2, 3, 4, 5, 6, 7, 8, 9, 10]\n",
      "[100, 2, 3, 4, 5, 6, 7, 8, 9, 10]\n"
     ]
    }
   ],
   "source": [
    "# List is a reference type\n",
    "a = numbers\n",
    "b = numbers[::]\n",
    "print(a, b, numbers, sep='\\n')\n",
    "numbers[0] = 100\n",
    "print(a, b, numbers, sep='\\n')"
   ]
  },
  {
   "cell_type": "code",
   "execution_count": 45,
   "metadata": {},
   "outputs": [
    {
     "name": "stdout",
     "output_type": "stream",
     "text": [
      "[1, 2, 3, 4, 5]\n",
      "[1, 5, 3, 2, 4]\n"
     ]
    }
   ],
   "source": [
    "# copy then sort a list\n",
    "numbers = [1, 5, 3, 2, 4]\n",
    "numbers_sorted = sorted(numbers)\n",
    "print(numbers_sorted)\n",
    "print(numbers)"
   ]
  },
  {
   "cell_type": "code",
   "execution_count": 47,
   "metadata": {},
   "outputs": [
    {
     "name": "stdout",
     "output_type": "stream",
     "text": [
      "[4, 2, 3, 5, 1]\n",
      "[1, 5, 3, 2, 4]\n"
     ]
    }
   ],
   "source": [
    "# copy then reverse a list\n",
    "reverse_numbers = numbers[::-1]\n",
    "print(reverse_numbers)\n",
    "print(numbers)"
   ]
  },
  {
   "cell_type": "code",
   "execution_count": 56,
   "metadata": {},
   "outputs": [
    {
     "name": "stdout",
     "output_type": "stream",
     "text": [
      "(8, 2, 1)\n",
      "(3, 2, 4)\n",
      "[1, 2, 3, 4, 6, 8]\n"
     ]
    }
   ],
   "source": [
    "# Tuple is similar to list but immutable\n",
    "a = (6, 4, 8, 2, 1, 3)\n",
    "print(a[2:5])\n",
    "print(a[::-2])\n",
    "print(sorted(a))\n",
    "# a.sort() # error beacause sort will swap items\n",
    "# a.append(5) # error because append will add an item\n",
    "# a[0] = 60 # error because cannot change item"
   ]
  },
  {
   "cell_type": "code",
   "execution_count": 57,
   "metadata": {},
   "outputs": [
    {
     "name": "stdout",
     "output_type": "stream",
     "text": [
      "(6, 4, 8, 2, 1, 3)\n",
      "(6, 4, 8, 2, 1, 3, 5, 7)\n"
     ]
    }
   ],
   "source": [
    "print(a)\n",
    "a = a + (5, 7)\n",
    "print(a)"
   ]
  },
  {
   "cell_type": "code",
   "execution_count": 63,
   "metadata": {},
   "outputs": [
    {
     "name": "stdout",
     "output_type": "stream",
     "text": [
      "Hello Python World\n",
      "Hello Python World4\n"
     ]
    }
   ],
   "source": [
    "s = 'Hello Python'\n",
    "# s[0] = 'h' # error because string is immutable\n",
    "s = s + ' World'\n",
    "print(s)\n",
    "s = s + str(4)\n",
    "print(s)"
   ]
  },
  {
   "cell_type": "code",
   "execution_count": 65,
   "metadata": {},
   "outputs": [
    {
     "name": "stdout",
     "output_type": "stream",
     "text": [
      "['Tom Cruise', 'Brad Pitt', 'Angelina Jolie', 'Robert Downey Jr']\n",
      "Tom Cruise|Brad Pitt|Angelina Jolie|Robert Downey Jr\n"
     ]
    }
   ],
   "source": [
    "actors = 'Tom Cruise, Brad Pitt, Angelina Jolie, Robert Downey Jr'\n",
    "# Convert string to list\n",
    "actors_list = actors.split(', ')\n",
    "print(actors_list)\n",
    "# Convert list to string\n",
    "actors = '|'.join(actors_list)  \n",
    "print(actors)"
   ]
  },
  {
   "cell_type": "code",
   "execution_count": 67,
   "metadata": {},
   "outputs": [
    {
     "name": "stdout",
     "output_type": "stream",
     "text": [
      "[57, 12, 92, 96, 14, 5, 41, 19, 39, 99, 97, 75, 3, 24, 76, 21, 43, 71, 68, 59]\n",
      "[57, 12, 92, 96, 14, 5, 41, 19, 39, 99]\n",
      "[97, 75, 3, 24, 76, 21, 43, 71, 68, 59]\n"
     ]
    }
   ],
   "source": [
    "numbers = rd.sample(range(100), 20)\n",
    "print(numbers)\n",
    "m = len(numbers) // 2\n",
    "print(numbers[:m])\n",
    "print(numbers[m:])"
   ]
  },
  {
   "cell_type": "code",
   "execution_count": 73,
   "metadata": {},
   "outputs": [
    {
     "name": "stdout",
     "output_type": "stream",
     "text": [
      "[]\n"
     ]
    }
   ],
   "source": [
    "n = int(input('Enter n = '))\n",
    "print(numbers[n:-n])"
   ]
  },
  {
   "cell_type": "code",
   "execution_count": 74,
   "metadata": {},
   "outputs": [
    {
     "name": "stdout",
     "output_type": "stream",
     "text": [
      "[57, 12, 92, 96, 14, 5, 41, 19, 39, 99, 97, 75, 3, 24, 76, 5, 41, 19, 39, 99, 97, 75, 3, 24, 76, 21, 43, 71, 68, 59]\n"
     ]
    }
   ],
   "source": [
    "print(numbers[:n] + numbers[-n:])"
   ]
  }
 ],
 "metadata": {
  "kernelspec": {
   "display_name": "Python 3",
   "language": "python",
   "name": "python3"
  },
  "language_info": {
   "codemirror_mode": {
    "name": "ipython",
    "version": 3
   },
   "file_extension": ".py",
   "mimetype": "text/x-python",
   "name": "python",
   "nbconvert_exporter": "python",
   "pygments_lexer": "ipython3",
   "version": "3.9.12"
  },
  "orig_nbformat": 4
 },
 "nbformat": 4,
 "nbformat_minor": 2
}
