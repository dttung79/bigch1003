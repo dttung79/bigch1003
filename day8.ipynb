{
 "cells": [
  {
   "cell_type": "code",
   "execution_count": 3,
   "metadata": {},
   "outputs": [],
   "source": [
    "def my_sort(items, compare=lambda a, b: a > b):\n",
    "    for i in range(len(items)-1):\n",
    "        for j in range(i+1, len(items)):\n",
    "            if compare(items[i], items[j]):\n",
    "                items[i], items[j] = items[j], items[i]\n",
    "    return items"
   ]
  },
  {
   "cell_type": "code",
   "execution_count": 4,
   "metadata": {},
   "outputs": [
    {
     "name": "stdout",
     "output_type": "stream",
     "text": [
      "[22 26 36 42 42 46 75 76 93 96]\n"
     ]
    }
   ],
   "source": [
    "import numpy as np\n",
    "numbers = np.random.randint(10, 100, 10)\n",
    "\n",
    "my_sort(numbers)\n",
    "print(numbers)"
   ]
  },
  {
   "cell_type": "code",
   "execution_count": 5,
   "metadata": {},
   "outputs": [
    {
     "name": "stdout",
     "output_type": "stream",
     "text": [
      "[96 93 76 75 46 42 42 36 26 22]\n"
     ]
    }
   ],
   "source": [
    "my_sort(numbers, lambda a, b: a < b)\n",
    "print(numbers)"
   ]
  },
  {
   "cell_type": "code",
   "execution_count": 6,
   "metadata": {},
   "outputs": [
    {
     "name": "stdout",
     "output_type": "stream",
     "text": [
      "[22 42 42 26 36 46 93 75 76 96]\n"
     ]
    }
   ],
   "source": [
    "# Sort by sum of digits\n",
    "my_sort(numbers, lambda a, b: a % 10 + a // 10 > b % 10 + b // 10)\n",
    "print(numbers)"
   ]
  },
  {
   "cell_type": "code",
   "execution_count": 7,
   "metadata": {},
   "outputs": [
    {
     "name": "stdout",
     "output_type": "stream",
     "text": [
      "8\n"
     ]
    }
   ],
   "source": [
    "cube = lambda x: x ** 3\n",
    "print(cube(2))"
   ]
  },
  {
   "cell_type": "code",
   "execution_count": 8,
   "metadata": {},
   "outputs": [
    {
     "name": "stdout",
     "output_type": "stream",
     "text": [
      "[['eraser', 2, 150], ['pencil', 5, 180], ['ruler', 8, 120], ['pen', 10, 110], ['notebook', 20, 58], ['book', 25, 30]]\n",
      "[['book', 25, 30], ['notebook', 20, 58], ['pen', 10, 110], ['ruler', 8, 120], ['eraser', 2, 150], ['pencil', 5, 180]]\n",
      "[['eraser', 2, 150], ['book', 25, 30], ['pencil', 5, 180], ['ruler', 8, 120], ['pen', 10, 110], ['notebook', 20, 58]]\n"
     ]
    }
   ],
   "source": [
    "product_solds = [['pen', 10, 110],\n",
    "                 ['pencil', 5, 180],\n",
    "                 ['notebook', 20, 58],\n",
    "                 ['eraser', 2, 150],\n",
    "                 ['ruler', 8, 120],\n",
    "                 ['book', 25, 30]]\n",
    "\n",
    "# Sort products by price\n",
    "my_sort(product_solds, lambda a, b: a[1] > b[1])\n",
    "print(product_solds)\n",
    "# Sort products by sold\n",
    "my_sort(product_solds, lambda a, b: a[2] > b[2])\n",
    "print(product_solds)\n",
    "# Sort products by revenue\n",
    "my_sort(product_solds, lambda a, b: a[1] * a[2] > b[1] * b[2])\n",
    "print(product_solds)"
   ]
  },
  {
   "cell_type": "code",
   "execution_count": 18,
   "metadata": {},
   "outputs": [
    {
     "name": "stdout",
     "output_type": "stream",
     "text": [
      "[39 69 66 53 86 19 93 48 48 72 62 74 23 94 74 97 76 38 51 58]\n",
      "66 86 48 48 72 62 74 94 74 76 38 58 \n",
      "[66, 86, 48, 48, 72, 62, 74, 94, 74, 76, 38, 58]\n",
      "[66 86 48 48 72 62 74 94 74 76 38 58]\n",
      "[66, 86, 48, 48, 72, 62, 74, 94, 74, 76, 38, 58]\n",
      "66 86 48 48 72 62 74 94 74 76 38 58 "
     ]
    }
   ],
   "source": [
    "numbers = np.random.randint(10, 100, 20)\n",
    "print(numbers)\n",
    "# Print even numbers\n",
    "for n in numbers:\n",
    "    if n % 2 == 0:\n",
    "        print(n, end=' ')\n",
    "print()\n",
    "evens = [n for n in numbers if n % 2 == 0]\n",
    "print(evens)\n",
    "evens = numbers[numbers % 2 == 0]\n",
    "print(evens)\n",
    "evens = list(filter(lambda n: n % 2 == 0, numbers))\n",
    "print(evens)\n",
    "\n",
    "for n in filter(lambda n: n % 2 == 0, numbers):\n",
    "    print(n, end=' ')"
   ]
  },
  {
   "cell_type": "code",
   "execution_count": 17,
   "metadata": {},
   "outputs": [
    {
     "name": "stdout",
     "output_type": "stream",
     "text": [
      "532\n",
      "532\n"
     ]
    }
   ],
   "source": [
    "# Calculate sum of even numbers\n",
    "s = 0\n",
    "for n in numbers:\n",
    "    if n % 2 == 0:\n",
    "        s += n\n",
    "print(s)\n",
    "s = sum([n for n in numbers if n % 2 == 0])\n",
    "print(s)\n",
    "s = sum(numbers[numbers % 2 == 0])\n",
    "print(s)\n",
    "s = sum(filter(lambda n: n % 2 == 0, numbers))"
   ]
  },
  {
   "cell_type": "code",
   "execution_count": 20,
   "metadata": {},
   "outputs": [
    {
     "name": "stdout",
     "output_type": "stream",
     "text": [
      "[  6 -63 -20 -66  94 -22  11   2  31 -73 -19  29 -65  80  19  -9 -39  38\n",
      "  67  63]\n",
      "-9\n",
      "2\n"
     ]
    }
   ],
   "source": [
    "numbers = np.random.randint(-100, 100, 20)\n",
    "print(numbers)\n",
    "\n",
    "# Find max of negative numbers\n",
    "print(max(filter(lambda n: n < 0, numbers)))\n",
    "# Find min of positive numbers\n",
    "print(min(filter(lambda n: n > 0, numbers)))"
   ]
  },
  {
   "cell_type": "code",
   "execution_count": 21,
   "metadata": {},
   "outputs": [
    {
     "name": "stdout",
     "output_type": "stream",
     "text": [
      "[6, 63, 20, 66, 94, 22, 11, 2, 31, 73, 19, 29, 65, 80, 19, 9, 39, 38, 67, 63]\n"
     ]
    }
   ],
   "source": [
    "# map function: apply a function to each item of a sequence\n",
    "pos_numbers = list(map(lambda n: n if n > 0 else -n, numbers))\n",
    "print(pos_numbers)"
   ]
  },
  {
   "cell_type": "code",
   "execution_count": 22,
   "metadata": {},
   "outputs": [
    {
     "name": "stdout",
     "output_type": "stream",
     "text": [
      "['John', 'Paul', 'George', 'Ringo']\n",
      "['Lennon', 'McCartney', 'Harrison', 'Starr']\n"
     ]
    }
   ],
   "source": [
    "names = ['John Lennon', 'Paul McCartney', 'George Harrison', 'Ringo Starr']\n",
    "# Get first names (using map)\n",
    "first_names = list(map(lambda n: n.split()[0], names))\n",
    "print(first_names)\n",
    "# Get last names (using map)\n",
    "last_names = list(map(lambda n: n.split()[1], names))\n",
    "print(last_names)"
   ]
  },
  {
   "cell_type": "code",
   "execution_count": 26,
   "metadata": {},
   "outputs": [
    {
     "name": "stdout",
     "output_type": "stream",
     "text": [
      "['book', 25, 30]\n",
      "['pencil', 5, 180]\n",
      "['eraser', 2, 150]\n",
      "3010\n",
      "3010\n"
     ]
    }
   ],
   "source": [
    "# Find product with max price\n",
    "max_product = max(product_solds, key=lambda p: p[1])\n",
    "print(max_product)\n",
    "# Find product with max sold\n",
    "max_product = max(product_solds, key=lambda p: p[2])\n",
    "print(max_product)\n",
    "# Find min revenue of products that has sold >= 100\n",
    "print(min(filter(lambda p: p[2] >= 100, product_solds), key=lambda p: p[1] * p[2]))\n",
    "# Calculate total revenue of products that has price >= 10\n",
    "print(sum(map(lambda p: p[1] * p[2], filter(lambda p: p[1] >= 10, product_solds))))\n",
    "print(sum(map(lambda p: p[1] * p[2] if p[1] >= 10 else 0, product_solds)))"
   ]
  },
  {
   "cell_type": "code",
   "execution_count": 31,
   "metadata": {},
   "outputs": [
    {
     "name": "stdout",
     "output_type": "stream",
     "text": [
      "['John', '0876523213', 1400]\n",
      "['Mary', '0876523214', 15000]\n",
      "['John Doe', '0876523215', 100]\n",
      "['Tommmmmmmmmmmmmmmmmmmmm', '0876523DDD', 1700]\n",
      "['John Doe', '087A23B17', 800]\n",
      "['Jill', '0876523218', -900]\n"
     ]
    }
   ],
   "source": [
    "employees = [['John', '0876523213', 1400],\n",
    "             ['Mary', '0876523214', 15000],\n",
    "             ['', '0876523215', 100],\n",
    "             ['Tommmmmmmmmmmmmmmmmmmmm', '0876523DDD', 1700],\n",
    "             ['', '087A23B17', 800],\n",
    "             ['Jill', '0876523218', -900]]\n",
    "\n",
    "fix_nothing = lambda e: e\n",
    "def clean_employees(employees, fix=fix_nothing):\n",
    "    for i in range(len(employees)):\n",
    "        employees[i] = fix(employees[i])\n",
    "def print_employees(employees):\n",
    "    for e in employees:\n",
    "        print(e)\n",
    "# Empty name can be changed to a default name (John Doe)\n",
    "clean_employees(employees, fix=lambda e: ['John Doe', e[1], e[2]] if e[0] == '' else e)\n",
    "print_employees(employees)"
   ]
  },
  {
   "cell_type": "code",
   "execution_count": null,
   "metadata": {},
   "outputs": [],
   "source": [
    "# Too long name should be truncated (max 20 characters)\n",
    "clean_employees(employees, fix=lambda e: [e[0][:20], e[1], e[2]])\n",
    "print_employees(employees)"
   ]
  },
  {
   "cell_type": "code",
   "execution_count": null,
   "metadata": {},
   "outputs": [],
   "source": [
    "# Phone must be digits.  Any non-digit should change to 0.  (i.e 012ab34 => 0120034)\n",
    "def fix_phone_zero(e):\n",
    "    phone = [c if c.isdigit() else '0' for c in e[1]]\n",
    "    return [e[0], ''.join(phone), e[2]]\n",
    "clean_employees(employees, fix=fix_phone_zero)\n",
    "print_employees(employees)"
   ]
  },
  {
   "cell_type": "code",
   "execution_count": 32,
   "metadata": {},
   "outputs": [
    {
     "name": "stdout",
     "output_type": "stream",
     "text": [
      "['John', '0876523213', 1400]\n",
      "['Mary', '0876523214', 15000]\n",
      "['John Doe', '0876523215', 100]\n",
      "['Tommmmmmmmmmmmmmmmmmmmm', '0876523333', 1700]\n",
      "['John Doe', '087723317', 800]\n",
      "['Jill', '0876523218', -900]\n"
     ]
    }
   ],
   "source": [
    "# Phone must be digits, any non-digit should change to a previous digit (or 0 if not)\n",
    "def fix_phone_previous(e):\n",
    "    phone = [c for c in e[1]]\n",
    "    if not phone[0].isdigit():\n",
    "        phone[0] = '0'\n",
    "    for i in range(1, len(phone)):\n",
    "        if not phone[i].isdigit():\n",
    "            phone[i] = phone[i-1]\n",
    "    return [e[0], ''.join(phone), e[2]]\n",
    "clean_employees(employees, fix=fix_phone_previous)\n",
    "print_employees(employees)"
   ]
  },
  {
   "cell_type": "markdown",
   "metadata": {},
   "source": []
  },
  {
   "cell_type": "code",
   "execution_count": null,
   "metadata": {},
   "outputs": [],
   "source": [
    "# Valid salary is in range [200, 2000]. Any invalid salary should change to 200 or 2000 correspondingly\n",
    "clean_employees(employees, lambda e: [e[0], e[1], 200 if e[2] < 200 else 2000 if e[2] > 2000 else e[2]])"
   ]
  },
  {
   "cell_type": "code",
   "execution_count": 36,
   "metadata": {},
   "outputs": [
    {
     "name": "stdout",
     "output_type": "stream",
     "text": [
      "1300.0\n",
      "['John', '0876523213', 1400]\n",
      "['Mary', '0876523214', 1300.0]\n",
      "['John Doe', '0876523215', 1300.0]\n",
      "['Tommmmmmmmmmmmmmmmmmmmm', '0876523333', 1700]\n",
      "['John Doe', '087723317', 800]\n",
      "['Jill', '0876523218', 1300.0]\n"
     ]
    }
   ],
   "source": [
    "# Valid salary is in range [200, 2000]. Any invalid salary should change to mean of valid salary\n",
    "mean_valid_salary = np.mean(list(map(lambda e: e[2], filter(lambda e: 200 <= e[2] <= 2000, employees))))\n",
    "print(mean_valid_salary)\n",
    "clean_employees(employees, lambda e: [e[0], e[1], mean_valid_salary if e[2] < 200 or e[2] > 2000 else e[2]])\n",
    "print_employees(employees)"
   ]
  }
 ],
 "metadata": {
  "kernelspec": {
   "display_name": "Python 3",
   "language": "python",
   "name": "python3"
  },
  "language_info": {
   "codemirror_mode": {
    "name": "ipython",
    "version": 3
   },
   "file_extension": ".py",
   "mimetype": "text/x-python",
   "name": "python",
   "nbconvert_exporter": "python",
   "pygments_lexer": "ipython3",
   "version": "3.9.12"
  },
  "orig_nbformat": 4
 },
 "nbformat": 4,
 "nbformat_minor": 2
}
