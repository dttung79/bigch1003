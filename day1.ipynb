{
 "cells": [
  {
   "cell_type": "code",
   "execution_count": 4,
   "metadata": {},
   "outputs": [],
   "source": [
    "a = int(input('Enter a: '))\n",
    "b = int(input('Enter b: '))"
   ]
  },
  {
   "cell_type": "code",
   "execution_count": 5,
   "metadata": {},
   "outputs": [
    {
     "name": "stdout",
     "output_type": "stream",
     "text": [
      "a = 4, b = 1\n"
     ]
    }
   ],
   "source": [
    "print(f'a = {a}, b = {b}')"
   ]
  },
  {
   "cell_type": "code",
   "execution_count": 7,
   "metadata": {},
   "outputs": [
    {
     "name": "stdout",
     "output_type": "stream",
     "text": [
      "max(4, 1) = 4\n"
     ]
    }
   ],
   "source": [
    "if a > b: m = a\n",
    "else: m = b\n",
    "print(f'max({a}, {b}) = {m}')"
   ]
  },
  {
   "cell_type": "code",
   "execution_count": 8,
   "metadata": {},
   "outputs": [
    {
     "name": "stdout",
     "output_type": "stream",
     "text": [
      "max(4, 1) = 4\n"
     ]
    }
   ],
   "source": [
    "m = a if a > b else b\n",
    "print(f'max({a}, {b}) = {m}')"
   ]
  },
  {
   "cell_type": "code",
   "execution_count": null,
   "metadata": {},
   "outputs": [],
   "source": [
    "day = int(input('Enter day of week: '))\n",
    "if day == 1:\n",
    "    print('Sunday')\n",
    "elif day == 2:\n",
    "    print('Monday')\n",
    "elif day == 3:\n",
    "    print('Tuesday')\n",
    "elif day == 4:\n",
    "    print('Wednesday')\n",
    "else:\n",
    "    print('Im too lazy to continue')"
   ]
  },
  {
   "cell_type": "code",
   "execution_count": 2,
   "metadata": {},
   "outputs": [
    {
     "name": "stdout",
     "output_type": "stream",
     "text": [
      "Fail\n"
     ]
    }
   ],
   "source": [
    "# Ex1: Enter grade of a student, print output (Fail, Pass, Merit, Distinction)\n",
    "# Fail: < 5.0, Pass: 5.0 - 6.5, Merit 6.5 - 8.0, Distinction: > 8.0\n",
    "grade = float(input('Enter grade: '))\n",
    "if grade < 5.0:\n",
    "    print('Fail')\n",
    "elif grade < 6.5:\n",
    "    print('Pass')\n",
    "elif grade < 8.0:\n",
    "    print('Merit')\n",
    "else:\n",
    "    print('Distinction')"
   ]
  },
  {
   "cell_type": "code",
   "execution_count": null,
   "metadata": {},
   "outputs": [],
   "source": [
    "print('Fail' if grade < 5.0 else 'Pass' if grade < 6.5 else 'Merit' if grade < 8.0 else 'Distinction')"
   ]
  },
  {
   "cell_type": "code",
   "execution_count": 9,
   "metadata": {},
   "outputs": [
    {
     "name": "stdout",
     "output_type": "stream",
     "text": [
      "1 2 3 4 5 6 7 8 9 10 "
     ]
    }
   ],
   "source": [
    "# Loop: while loop and for loop\n",
    "i = 1\n",
    "while i <= 10:\n",
    "    print(i, end=' ')\n",
    "    i = i + 1"
   ]
  },
  {
   "cell_type": "code",
   "execution_count": 10,
   "metadata": {},
   "outputs": [
    {
     "name": "stdout",
     "output_type": "stream",
     "text": [
      "1 2 3 4 5 6 7 8 9 10 "
     ]
    }
   ],
   "source": [
    "# for (int i = 1; i < 11; i++) => for i in range(1, 11)\n",
    "# for (int i = 0; i < n; i++)  => for i in range(n)\n",
    "for i in range(1, 11):\n",
    "    print(i, end=' ')"
   ]
  },
  {
   "cell_type": "code",
   "execution_count": 13,
   "metadata": {},
   "outputs": [
    {
     "name": "stdout",
     "output_type": "stream",
     "text": [
      "sum = 6\n"
     ]
    }
   ],
   "source": [
    "# Nhập vào 1 số, nếu số đó lớn hơn 0 thì cộng vào 1 biến tổng và tiếp tục\n",
    "# Nếu số đó nhỏ hơn hoặc bằng 0 thì dừng lại và in ra tổng\n",
    "a = 1\n",
    "s = 0\n",
    "while a > 0:\n",
    "    a = int(input('Enter a: '))\n",
    "    if a > 0:\n",
    "        s = s + a\n",
    "print(f'sum = {s}')"
   ]
  },
  {
   "cell_type": "code",
   "execution_count": 19,
   "metadata": {},
   "outputs": [
    {
     "name": "stdout",
     "output_type": "stream",
     "text": [
      "* \n",
      "* * \n",
      "* * * \n",
      "* * * * \n",
      "* * * * * \n",
      "* * * * * * \n",
      "* * * * * * * \n"
     ]
    }
   ],
   "source": [
    "# Enter n, print triangle of asterisks\n",
    "n = int(input('Enter n: '))\n",
    "for i in range(1, n + 1):\n",
    "    print('* ' * i)"
   ]
  },
  {
   "cell_type": "code",
   "execution_count": 21,
   "metadata": {},
   "outputs": [
    {
     "name": "stdout",
     "output_type": "stream",
     "text": [
      "hello hello hello \n"
     ]
    }
   ],
   "source": [
    "s = 'hello '\n",
    "print(s * 3)"
   ]
  }
 ],
 "metadata": {
  "kernelspec": {
   "display_name": "Python 3",
   "language": "python",
   "name": "python3"
  },
  "language_info": {
   "codemirror_mode": {
    "name": "ipython",
    "version": 3
   },
   "file_extension": ".py",
   "mimetype": "text/x-python",
   "name": "python",
   "nbconvert_exporter": "python",
   "pygments_lexer": "ipython3",
   "version": "3.9.12"
  },
  "orig_nbformat": 4
 },
 "nbformat": 4,
 "nbformat_minor": 2
}
