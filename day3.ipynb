{
 "cells": [
  {
   "cell_type": "code",
   "execution_count": null,
   "metadata": {},
   "outputs": [],
   "source": [
    "a = [[1, 2, 3], [4, 5, 6], [7, 8, 9]] # 2d list has row of same length\n",
    "print(a)\n",
    "for row in a:\n",
    "    print(row)\n",
    "print(len(a))\n",
    "print(a[0])\n",
    "print(a[0][2])\n",
    "print(a[2][1])"
   ]
  },
  {
   "cell_type": "code",
   "execution_count": null,
   "metadata": {},
   "outputs": [],
   "source": [
    "a = [[1], [2, 3], [], [4, 5, 6]] # a 2d list that has row of different length\n",
    "for row in a:\n",
    "    print(row)"
   ]
  },
  {
   "cell_type": "code",
   "execution_count": null,
   "metadata": {},
   "outputs": [],
   "source": [
    "students = [['John', 'GCH0001', 3.5], ['Jane', 'GCH0002', 3.9], ['Jack', 'GCH0003', 3.2]]\n",
    "for st in students:\n",
    "    print(st[0], st[1], st[2])"
   ]
  },
  {
   "cell_type": "code",
   "execution_count": null,
   "metadata": {},
   "outputs": [],
   "source": [
    "a = [[1, 2, 3], [4, 5, 6], [7, 8, 9], [10, 11, 12], [13, 14, 15]]\n",
    "for row in a:\n",
    "    print(row)\n",
    "for row in a[2:4]:\n",
    "    print(row)"
   ]
  },
  {
   "cell_type": "code",
   "execution_count": null,
   "metadata": {},
   "outputs": [],
   "source": [
    "import random as rd\n",
    "matrix = [rd.sample(range(10, 100), 5),\n",
    "          rd.sample(range(10, 100), 5),\n",
    "          rd.sample(range(10, 100), 5),\n",
    "          rd.sample(range(10, 100), 5),\n",
    "          rd.sample(range(10, 100), 5)]\n",
    "\n",
    "def print_matrix(m):\n",
    "    for row in m:\n",
    "        print(row)\n",
    "\n",
    "print_matrix(matrix)"
   ]
  },
  {
   "cell_type": "code",
   "execution_count": 15,
   "metadata": {},
   "outputs": [
    {
     "name": "stdout",
     "output_type": "stream",
     "text": [
      "[12, 43, 18, 22, 99]\n",
      "[82, 76, 33, 67, 45]\n",
      "[96, 74, 11, 84, 24]\n",
      "----------------\n",
      "[12, 43, 18, 22, 99]\n",
      "[82, 76, 33, 67, 45]\n",
      "[96, 74, 11, 84, 24]\n",
      "----------------\n",
      "[96, 74, 11, 84, 24]\n",
      "[99, 19, 50, 62, 44]\n",
      "----------------\n",
      "[96, 74, 11, 84, 24]\n",
      "[99, 19, 50, 62, 44]\n"
     ]
    }
   ],
   "source": [
    "# Get 3 middle rows in as many ways as you can\n",
    "print_matrix(matrix[1:4])\n",
    "print('----------------')\n",
    "print_matrix(matrix[1:-1])\n",
    "# Get 2 last rows in as many ways as you can\n",
    "print('----------------')\n",
    "print_matrix(matrix[-2:])\n",
    "print('----------------')\n",
    "print_matrix(matrix[3:])"
   ]
  },
  {
   "cell_type": "code",
   "execution_count": 16,
   "metadata": {},
   "outputs": [
    {
     "name": "stdout",
     "output_type": "stream",
     "text": [
      "Sum of row 3 is 289\n",
      "Min of row 3 is 11\n",
      "Max of row 3 is 96\n"
     ]
    }
   ],
   "source": [
    "n = int(input('Enter row n: '))\n",
    "print(f'Sum of row {n} is {sum(matrix[n])}')\n",
    "print(f'Min of row {n} is {min(matrix[n])}')\n",
    "print(f'Max of row {n} is {max(matrix[n])}')"
   ]
  },
  {
   "cell_type": "code",
   "execution_count": 17,
   "metadata": {},
   "outputs": [
    {
     "name": "stdout",
     "output_type": "stream",
     "text": [
      "Sorted row 3 is [11, 24, 74, 84, 96]\n"
     ]
    }
   ],
   "source": [
    "print(f'Sorted row {n} is {sorted(matrix[n])}')"
   ]
  },
  {
   "cell_type": "code",
   "execution_count": 4,
   "metadata": {},
   "outputs": [
    {
     "name": "stdout",
     "output_type": "stream",
     "text": [
      "Cheapest product is eraser with price $2\n",
      "The product that is sold the most is pencil with 180 solds\n",
      "Average income of all products is $861.67\n",
      "There are 2 products that has income less than the average income\n"
     ]
    }
   ],
   "source": [
    "# products = ['pen', 'pencil', 'notebook', 'eraser', 'ruler', 'book']\n",
    "# prices = [10, 5, 20, 2, 8, 25]\n",
    "# solds = [110, 180, 58, 150, 120, 30]\n",
    "product_solds = [['pen', 10, 110],\n",
    "                 ['pencil', 5, 180],\n",
    "                 ['notebook', 20, 58],\n",
    "                 ['eraser', 2, 150],\n",
    "                 ['ruler', 8, 120],\n",
    "                 ['book', 25, 30]]\n",
    "\n",
    "# Find the cheapest product\n",
    "min_price = product_solds[0][1]\n",
    "i_min = 0\n",
    "for i in range(len(product_solds)):\n",
    "    if product_solds[i][1] < min_price:\n",
    "        min_price = product_solds[i][1]\n",
    "        i_min = i\n",
    "print(f'Cheapest product is {product_solds[i_min][0]} with price ${min_price}')\n",
    "# Find the product that is sold the most\n",
    "max_row = product_solds[0]\n",
    "for row in product_solds:\n",
    "    if row[2] > max_row[2]:\n",
    "        max_row = row\n",
    "print(f'The product that is sold the most is {max_row[0]} with {max_row[2]} solds')\n",
    "# Calculate average income of all products\n",
    "total = 0\n",
    "for row in product_solds:\n",
    "    total += row[1] * row[2]\n",
    "print(f'Average income of all products is ${total / len(product_solds):.2f}')\n",
    "# Count how many products that has income less than the average income\n",
    "avg_income = total / len(product_solds)\n",
    "count = 0\n",
    "for row in product_solds:\n",
    "    if row[1] * row[2] < avg_income:\n",
    "        count += 1\n",
    "print(f'There are {count} products that has income less than the average income')"
   ]
  },
  {
   "cell_type": "code",
   "execution_count": null,
   "metadata": {},
   "outputs": [],
   "source": [
    "import numpy as np\n",
    "# Create array from list\n",
    "a = [1, 2, 3, 4]\n",
    "b = np.array(a)\n",
    "print(a, b)\n",
    "print(b[0], b[-1])\n",
    "print(b[1:3])"
   ]
  },
  {
   "cell_type": "code",
   "execution_count": 12,
   "metadata": {},
   "outputs": [
    {
     "name": "stdout",
     "output_type": "stream",
     "text": [
      "[0 1 2 3 4 5 6 7 8 9]\n",
      "[10 11 12 13 14 15 16 17 18 19]\n",
      "[10 12 14 16 18]\n",
      "[0.  0.1 0.2 0.3 0.4 0.5 0.6 0.7 0.8 0.9]\n"
     ]
    }
   ],
   "source": [
    "# Create array using arange function => similar to range\n",
    "a = np.arange(10)\n",
    "print(a)\n",
    "b = np.arange(10, 20)\n",
    "print(b)\n",
    "c = np.arange(10, 20, 2)\n",
    "print(c)\n",
    "d = np.arange(0, 1, 0.1)\n",
    "print(d)"
   ]
  },
  {
   "cell_type": "code",
   "execution_count": 20,
   "metadata": {},
   "outputs": [
    {
     "name": "stdout",
     "output_type": "stream",
     "text": [
      "[0 1 2 3 4 5 6 7 8 9]\n",
      "[0. 1. 2. 3. 4. 5. 6. 7. 8. 9.]\n",
      "[10.  12.5 15.  17.5 20. ]\n",
      "[0.  0.1 0.2 0.3 0.4 0.5 0.6 0.7 0.8 0.9]\n"
     ]
    }
   ],
   "source": [
    "# Create array using linspace function\n",
    "a = np.linspace(0, 9, 10, dtype=int)\n",
    "print(a)\n",
    "b = np.linspace(0, 10, 10, endpoint=False)\n",
    "print(b)\n",
    "c = np.linspace(10, 20, 5)\n",
    "print(c)\n",
    "d = np.linspace(0, 1, 10, endpoint=False)   \n",
    "print(d)"
   ]
  },
  {
   "cell_type": "code",
   "execution_count": 21,
   "metadata": {},
   "outputs": [
    {
     "name": "stdout",
     "output_type": "stream",
     "text": [
      "[0.1        0.13333333 0.16666667 0.2        0.23333333 0.26666667\n",
      " 0.3        0.33333333 0.36666667 0.4        0.43333333 0.46666667\n",
      " 0.5       ]\n",
      "0.03333333333333333\n"
     ]
    }
   ],
   "source": [
    "# Generate 13 numbers among 0.1 and 0.5\n",
    "a, step = np.linspace(0.1, 0.5, 13, retstep=True)\n",
    "print(a)\n",
    "print(step)"
   ]
  },
  {
   "cell_type": "code",
   "execution_count": 24,
   "metadata": {},
   "outputs": [
    {
     "name": "stdout",
     "output_type": "stream",
     "text": [
      "[   2    4    8   16   32   64  128  256  512 1024]\n",
      "[         10         100        1000       10000      100000     1000000\n",
      "    10000000   100000000  1000000000 10000000000]\n"
     ]
    }
   ],
   "source": [
    "a = np.logspace(1, 10, 10, base=2, dtype=int)\n",
    "print(a)\n",
    "a = np.logspace(1, 10, 10, dtype=int)\n",
    "print(a)"
   ]
  },
  {
   "cell_type": "code",
   "execution_count": 25,
   "metadata": {},
   "outputs": [
    {
     "name": "stdout",
     "output_type": "stream",
     "text": [
      "[  27   81  243  729 2187 6561]\n"
     ]
    }
   ],
   "source": [
    "# Using logspace generate following numbers: 27, 81, 243, 729, 2187, 6561\n",
    "print(np.logspace(3, 8, 6, base=3, dtype=int))"
   ]
  },
  {
   "cell_type": "code",
   "execution_count": 27,
   "metadata": {},
   "outputs": [
    {
     "name": "stdout",
     "output_type": "stream",
     "text": [
      "[0. 0. 0. 0. 0.]\n",
      "[[2. 2. 2. 2. 2.]\n",
      " [2. 2. 2. 2. 2.]\n",
      " [2. 2. 2. 2. 2.]\n",
      " [2. 2. 2. 2. 2.]\n",
      " [2. 2. 2. 2. 2.]]\n"
     ]
    }
   ],
   "source": [
    "print(np.zeros(5))\n",
    "print(np.ones((5, 5)) * 2)"
   ]
  },
  {
   "cell_type": "code",
   "execution_count": 31,
   "metadata": {},
   "outputs": [
    {
     "name": "stdout",
     "output_type": "stream",
     "text": [
      "[ 6  8 10 12]\n",
      "[-4 -4 -4 -4]\n"
     ]
    }
   ],
   "source": [
    "# Array arithmetics operations\n",
    "# Array +-*/%... Array => element-wise operations on arrays of the same size\n",
    "a = np.array([1, 2, 3, 4])  \n",
    "b = np.array([5, 6, 7, 8])\n",
    "print(a + b)    # [6 8 10 12] \n",
    "print(a - b)    # [-4 -4 -4 -4] "
   ]
  },
  {
   "cell_type": "code",
   "execution_count": 35,
   "metadata": {},
   "outputs": [
    {
     "name": "stdout",
     "output_type": "stream",
     "text": [
      "[3 4 5 6]\n",
      "[-1  0  1  2]\n",
      "[ 2  4  8 16]\n",
      "[ 2.84147098  4.90929743  8.14112001 15.2431975 ]\n"
     ]
    }
   ],
   "source": [
    "# Array +-*/%... Scalar => element-wise operations on arrays and a scalar\n",
    "print(a + 2)\n",
    "print(a - 2)\n",
    "print(2 ** a)\n",
    "print(2 ** a + np.sin(a))"
   ]
  }
 ],
 "metadata": {
  "kernelspec": {
   "display_name": "Python 3",
   "language": "python",
   "name": "python3"
  },
  "language_info": {
   "codemirror_mode": {
    "name": "ipython",
    "version": 3
   },
   "file_extension": ".py",
   "mimetype": "text/x-python",
   "name": "python",
   "nbconvert_exporter": "python",
   "pygments_lexer": "ipython3",
   "version": "3.9.12"
  },
  "orig_nbformat": 4
 },
 "nbformat": 4,
 "nbformat_minor": 2
}
